{
 "cells": [
  {
   "cell_type": "markdown",
   "id": "3f7a2aca",
   "metadata": {},
   "source": [
    "### Create Bert CLS Model"
   ]
  },
  {
   "cell_type": "code",
   "execution_count": null,
   "id": "fe41f510",
   "metadata": {},
   "outputs": [],
   "source": [
    "def create_bert_cls_model(bert_base_model,\n",
    "                          msl=MAX_SEQUENCE_LENGTH,\n",
    "                          hidden_size = 100,\n",
    "                          dropout=0.3,\n",
    "                          learning_rate=0.00005):\n",
    "    \"\"\"\n",
    "    Build a simple classification model with BERT. Use the CLS Token output for classification purposes.\n",
    "    \"\"\"\n",
    "    ### YOUR CODE HERE\n",
    "\n",
    "    bert_base_model.trainable = True\n",
    "\n",
    "    input_ids = tf.keras.layers.Input(shape=(msl,), dtype=tf.int64, name='input_ids_layer') #--SOLUTION--\n",
    "    token_type_ids = tf.keras.layers.Input(shape=(msl,), dtype=tf.int64, name='token_type_ids_layer') #--SOLUTION--\n",
    "    attention_mask = tf.keras.layers.Input(shape=(msl,), dtype=tf.int64, name='attention_mask_layer') #--SOLUTION--\n",
    "\n",
    "    bert_inputs = {'input_ids': input_ids, #--SOLUTION--\n",
    "                   'token_type_ids': token_type_ids, #--SOLUTION--\n",
    "                   'attention_mask': attention_mask}    #--SOLUTION--\n",
    "\n",
    "    bert_out = bert_base_model(bert_inputs)                                                                 #--SOLUTION--\n",
    "\n",
    "    cls_token = bert_out[0][:, 0, :]                                                                   #--SOLUTION--\n",
    "\n",
    "    hidden = tf.keras.layers.Dense(hidden_size, activation='relu', name='hidden_layer')(cls_token)     #--SOLUTION--\n",
    "    hidden = tf.keras.layers.Dropout(dropout)(hidden)                                                  #--SOLUTION--\n",
    "\n",
    "    classification = tf.keras.layers.Dense(1, activation='sigmoid',name='classification_layer')(hidden) #--SOLUTION--\n",
    "\n",
    "    classification_model = tf.keras.Model(inputs=[input_ids, token_type_ids, attention_mask],           #--SOLUTION--\n",
    "                                          outputs=[classification])                 #--SOLUTION--\n",
    "\n",
    "    classification_model.compile(optimizer=tf.keras.optimizers.Adam(learning_rate=learning_rate),       #--SOLUTION--\n",
    "                            loss=tf.keras.losses.BinaryCrossentropy(from_logits=False),                 #--SOLUTION--\n",
    "                            metrics='accuracy')                                                         #--SOLUTION--\n",
    "    ### END YOUR CODE\n",
    "    return classification_model"
   ]
  }
 ],
 "metadata": {
  "kernelspec": {
   "display_name": "Python 3 (ipykernel)",
   "language": "python",
   "name": "python3"
  },
  "language_info": {
   "codemirror_mode": {
    "name": "ipython",
    "version": 3
   },
   "file_extension": ".py",
   "mimetype": "text/x-python",
   "name": "python",
   "nbconvert_exporter": "python",
   "pygments_lexer": "ipython3",
   "version": "3.10.6"
  }
 },
 "nbformat": 4,
 "nbformat_minor": 5
}

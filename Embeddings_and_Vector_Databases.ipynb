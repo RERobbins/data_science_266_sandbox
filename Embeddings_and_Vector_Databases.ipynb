{
  "nbformat": 4,
  "nbformat_minor": 0,
  "metadata": {
    "colab": {
      "provenance": [],
      "collapsed_sections": [
        "zhQ4p1pSkFfc"
      ],
      "authorship_tag": "ABX9TyN0H2nVh+t2TVNYJtQBuwdx",
      "include_colab_link": true
    },
    "kernelspec": {
      "name": "python3",
      "display_name": "Python 3"
    },
    "language_info": {
      "name": "python"
    }
  },
  "cells": [
    {
      "cell_type": "markdown",
      "metadata": {
        "id": "view-in-github",
        "colab_type": "text"
      },
      "source": [
        "<a href=\"https://colab.research.google.com/github/RERobbins/data_science_266_sandbox/blob/main/Embeddings_and_Vector_Databases.ipynb\" target=\"_parent\"><img src=\"https://colab.research.google.com/assets/colab-badge.svg\" alt=\"Open In Colab\"/></a>"
      ]
    },
    {
      "cell_type": "markdown",
      "source": [
        "# Setup"
      ],
      "metadata": {
        "id": "zhQ4p1pSkFfc"
      }
    },
    {
      "cell_type": "markdown",
      "source": [
        "## OpenAI and Cohere Accounts and API Endpoints\n",
        "\n",
        "OpenAI and Cohere provide large language models.  This notebook uses API endpoints from each.  \n",
        "\n",
        "OpenAI provides free, rate-limited usage to its API endpoint for a three-month trial period.  In order to use the OpenAI API endpoint you will need an OpenAI API token.\n",
        "\n",
        "Cohere provides free, rate-limited usage for learning and prototyping. In order to use Cohere you will need a Cohere API token.\n",
        "\n",
        "If you don't already have an OpenAI API token you can get one by signing up for a free OpenAI account from the [OpenAI Signup page](https://platform.openai.com/signup?launch).  Once you have created your OpenAI account you can create a trial API key from the [OpenAI API page](https://platform.openai.com/account/api-keys).\n",
        "\n",
        "If you don't already have a Cohere API token you can get one by signing up for a Cohere account from the [Cohere dashboard](https://dashboard.cohere.ai).  Once you have created your Cohere account you can create a trial API key from the [Cohere API Keys page](https://dashboard.cohere.ai/api-keys)."
      ],
      "metadata": {
        "id": "fctD29GtpDas"
      }
    },
    {
      "cell_type": "markdown",
      "source": [
        "## Mount Google Drive\n",
        "\n",
        "By default, the data you create in Google Colaboratory does not persist from session to session.  Each session runs in a virtual machine and when that machine goes away, so does your data.  If you want your data to persist, you must store it outside the virtual machine. Google Drive can be used for that purpose.  We use it later in this notebook to store the OpenAI and Cohere API keys."
      ],
      "metadata": {
        "id": "teyGc1Hox8Hb"
      }
    },
    {
      "cell_type": "code",
      "source": [
        "from google.colab import drive\n",
        "drive.mount('drive')"
      ],
      "metadata": {
        "colab": {
          "base_uri": "https://localhost:8080/"
        },
        "id": "UWg8VEQ55bc7",
        "outputId": "433fa750-8d1e-4257-d064-eb8637d14c66"
      },
      "execution_count": 1,
      "outputs": [
        {
          "output_type": "stream",
          "name": "stdout",
          "text": [
            "Mounted at drive\n"
          ]
        }
      ]
    },
    {
      "cell_type": "markdown",
      "source": [
        "## Python-dotenv\n",
        "\n",
        "`Python-dotenv` is a Python module that allows you to specify environment variables in traditional UNIX-like “.env” (dot-env) file within your Python project directory.\n",
        "\n",
        "Environment variables are key-value pairs for the current user environment. They are generally set by the operating system and the current user-specific configurations.\n",
        "\n",
        "`Python-dotenv` allows the user to work with API keys without exposing them to the outside world."
      ],
      "metadata": {
        "id": "kkumrUT0qR4F"
      }
    },
    {
      "cell_type": "code",
      "execution_count": 2,
      "metadata": {
        "id": "-yoDbPoXiQiQ"
      },
      "outputs": [],
      "source": [
        "!pip install --quiet python-dotenv"
      ]
    },
    {
      "cell_type": "markdown",
      "source": [
        "## Add API Keys to .env File\n",
        "\n",
        "The format of a .env file is simple: each line contains a single key-value pair, with the key and value separated by an equal sign (=). Here's an example:\n",
        "```\n",
        "DATABASE_URL=your_database_url\n",
        "API_KEY=your_api_key\n",
        "DEBUG=True\n",
        "```\n",
        "To use OpenAI and Cohere, we need to set the `OPENAI_API_KEY` and `COHERE_API_KEY` environment variables, which means the `.env` file should have lines that looks like:\n",
        "```\n",
        "OPENAI_API_KEY=your_openai_api_key_value\n",
        "COHERE_API_KEY=your_cohere_api_key_value\n",
        "```\n",
        "One way to do that is to create or edit the `.env` file directly.  As with most Unix systems, file names that begin with a `.` in Google Drive are hidden from display, but you can still access them. For example, if you enter the name `.env` in the Google Drive search bar, you will be able to access your `.env` file (if it exists).\n",
        "\n",
        "You can use the `append_key_to_env` helper function included below.  If used without arguments it will prompt the user for the value of an OpenAI API key and then the value of a Cohere API key and append each with the correct key name to the `.env` file in the root of the users Google Drive folder.  It will create the `.env` file if necessary.  You can provide an alternate list of key names and an alternate path to the function if you desire, but the defaults are fine for this notebook.\n",
        "\n",
        "Once the OpenAI and Cohere APIs key have been stored in the `.env` file you should not need to do anything else with that file.  If either of your keys change you will need to update the `.env` file."
      ],
      "metadata": {
        "id": "0Aq41CsiDe46"
      }
    },
    {
      "cell_type": "code",
      "source": [
        "def append_key_to_env (env_file_path = '/content/drive/MyDrive/.env',\n",
        "                           key_names = ['OPENAI_API_KEY', 'COHERE_API_KEY']):\n",
        "  import getpass\n",
        "  with open(env_file_path, 'a') as env_file:\n",
        "    for key_name in key_names:\n",
        "      key_value = getpass.getpass (f\"Please enter the value for {key_name}: \")\n",
        "      env_file.write(f'{key_name}={key_value}\\n')"
      ],
      "metadata": {
        "id": "dzqM4pUXrl3E"
      },
      "execution_count": 3,
      "outputs": []
    },
    {
      "cell_type": "code",
      "source": [
        "# Remove the # character in the line below and run if desired\n",
        "# append_key_to_env()"
      ],
      "metadata": {
        "id": "XsnAwPn1GFG6"
      },
      "execution_count": 4,
      "outputs": []
    },
    {
      "cell_type": "markdown",
      "source": [
        "## Load the API Keys\n",
        "\n",
        "The following cell loads the OpenAI and Cohere API keys into the current environment."
      ],
      "metadata": {
        "id": "MnjsPtWyOzoh"
      }
    },
    {
      "cell_type": "code",
      "source": [
        "import os\n",
        "from dotenv import load_dotenv, find_dotenv\n",
        "\n",
        "load_dotenv('/content/drive/MyDrive/.env')\n",
        "OPENAI_API_KEY = os.environ[\"OPENAI_API_KEY\"]\n",
        "COHERE_API_KEY = os.environ[\"COHERE_API_KEY\"]"
      ],
      "metadata": {
        "id": "MyC87ry57rg_"
      },
      "execution_count": 5,
      "outputs": []
    },
    {
      "cell_type": "markdown",
      "source": [
        "# Langchain\n",
        "\n",
        "LangChain is a framework designed to simplify the creation of applications using large language models. As a language model integration framework, LangChain's use-cases largely overlap with those of language models in general, including document analysis and summarization, chatbots, and code analysis.\n",
        "\n",
        "The examples in this notebook use LangChain rather than the underlying Python modules.  A description of LangChain is beyond the scope of this notebook."
      ],
      "metadata": {
        "id": "hKu1ACMquIIF"
      }
    },
    {
      "cell_type": "code",
      "source": [
        "!pip install --quiet langchain"
      ],
      "metadata": {
        "id": "e_qMdGLwvG_6",
        "colab": {
          "base_uri": "https://localhost:8080/"
        },
        "outputId": "b2e97e29-50ba-48d2-b9bd-87c3f495868c"
      },
      "execution_count": 6,
      "outputs": [
        {
          "output_type": "stream",
          "name": "stdout",
          "text": [
            "\u001b[2K     \u001b[90m━━━━━━━━━━━━━━━━━━━━━━━━━━━━━━━━━━━━━━━━\u001b[0m \u001b[32m1.5/1.5 MB\u001b[0m \u001b[31m9.0 MB/s\u001b[0m eta \u001b[36m0:00:00\u001b[0m\n",
            "\u001b[2K     \u001b[90m━━━━━━━━━━━━━━━━━━━━━━━━━━━━━━━━━━━━━━━━\u001b[0m \u001b[32m90.0/90.0 kB\u001b[0m \u001b[31m8.1 MB/s\u001b[0m eta \u001b[36m0:00:00\u001b[0m\n",
            "\u001b[2K     \u001b[90m━━━━━━━━━━━━━━━━━━━━━━━━━━━━━━━━━━━━━━━━\u001b[0m \u001b[32m3.1/3.1 MB\u001b[0m \u001b[31m20.0 MB/s\u001b[0m eta \u001b[36m0:00:00\u001b[0m\n",
            "\u001b[2K     \u001b[90m━━━━━━━━━━━━━━━━━━━━━━━━━━━━━━━━━━━━━━━━\u001b[0m \u001b[32m49.4/49.4 kB\u001b[0m \u001b[31m3.6 MB/s\u001b[0m eta \u001b[36m0:00:00\u001b[0m\n",
            "\u001b[?25h"
          ]
        }
      ]
    },
    {
      "cell_type": "markdown",
      "source": [
        "# Embeddings\n",
        "\n",
        "We will use OpenAI and Cohere large language models and embeddings, calculate cosine similarity and look at some heatmaps.\n",
        "\n",
        "An overview of OpenAI models can be found [here](https://platform.openai.com/docs/models/overview) and an overciew of OpenAI embeddings can be found [here](https://platform.openai.com/docs/guides/embeddings/what-are-embeddings).\n",
        "\n",
        "An overview of Cohere models and embeddings can be found [here](https://docs.cohere.com/docs/models)."
      ],
      "metadata": {
        "id": "GVNMF4FR-Up3"
      }
    },
    {
      "cell_type": "code",
      "source": [
        "!pip install --quiet openai cohere tiktoken\n",
        "\n",
        "import openai\n",
        "from langchain.embeddings.openai import OpenAIEmbeddings\n",
        "from langchain.embeddings.cohere import CohereEmbeddings\n",
        "\n",
        "import cohere\n",
        "from langchain.chat_models import ChatOpenAI\n",
        "from langchain.llms import Cohere\n",
        "\n",
        "from sklearn.metrics.pairwise import cosine_similarity\n",
        "\n",
        "import seaborn as sns\n",
        "import matplotlib.pyplot as plt\n",
        "import tiktoken"
      ],
      "metadata": {
        "id": "8GTI7DbH-4E-",
        "colab": {
          "base_uri": "https://localhost:8080/"
        },
        "outputId": "6545eedf-407a-47d4-a9f9-525b42cac12f"
      },
      "execution_count": 7,
      "outputs": [
        {
          "output_type": "stream",
          "name": "stdout",
          "text": [
            "\u001b[2K     \u001b[90m━━━━━━━━━━━━━━━━━━━━━━━━━━━━━━━━━━━━━━━━\u001b[0m \u001b[32m73.6/73.6 kB\u001b[0m \u001b[31m1.5 MB/s\u001b[0m eta \u001b[36m0:00:00\u001b[0m\n",
            "\u001b[2K     \u001b[90m━━━━━━━━━━━━━━━━━━━━━━━━━━━━━━━━━━━━━━━━\u001b[0m \u001b[32m44.5/44.5 kB\u001b[0m \u001b[31m3.2 MB/s\u001b[0m eta \u001b[36m0:00:00\u001b[0m\n",
            "\u001b[2K     \u001b[90m━━━━━━━━━━━━━━━━━━━━━━━━━━━━━━━━━━━━━━━━\u001b[0m \u001b[32m1.7/1.7 MB\u001b[0m \u001b[31m9.8 MB/s\u001b[0m eta \u001b[36m0:00:00\u001b[0m\n",
            "\u001b[2K     \u001b[90m━━━━━━━━━━━━━━━━━━━━━━━━━━━━━━━━━━━━━━━━\u001b[0m \u001b[32m2.7/2.7 MB\u001b[0m \u001b[31m19.8 MB/s\u001b[0m eta \u001b[36m0:00:00\u001b[0m\n",
            "\u001b[?25h"
          ]
        }
      ]
    },
    {
      "cell_type": "code",
      "source": [
        "def openai_token_count (text):\n",
        "  embedding_model = OpenAIEmbeddings()\n",
        "  openai_encoding = tiktoken.encoding_for_model(embedding_model.model)\n",
        "  return len(openai_encoding.encode (text))\n",
        "\n",
        "def cohere_token_count (text, model_name=\"command\"):\n",
        "  co = cohere.Client(COHERE_API_KEY)\n",
        "  return len(co.tokenize(text=text, model=model_name))\n",
        "\n",
        "def embeddings_similarity_heatmap(embeddings, figsize=None):\n",
        "  if figsize is None:\n",
        "    figsize = (len(embeddings), len(embeddings))\n",
        "  similarity_matrix = cosine_similarity(embeddings)\n",
        "  plt.figure(figsize=figsize)\n",
        "  sns.heatmap(cosine_similarity (embeddings), cmap='viridis', annot=True, fmt=\".3f\")"
      ],
      "metadata": {
        "id": "aeXEJmAL2goM"
      },
      "execution_count": 8,
      "outputs": []
    },
    {
      "cell_type": "markdown",
      "source": [
        "Instantiate the embededing models.  \n",
        "\n",
        "The default OpenAI model is `text-embedding-ada-002`, which is the preferred OpenAI embedding model for its GPT 3.5 and GPT 4 models.  \n",
        "The maximum number of tokens for the OpenAI embedding model is 8192.\n",
        "\n",
        "The default Cohere model is `embed-english-v2.0`  \n",
        "The maximum number of tokens for the Cohere embedding model is `512`."
      ],
      "metadata": {
        "id": "aMf9o9-V3tP6"
      }
    },
    {
      "cell_type": "code",
      "source": [
        "openai_embeddings_model = OpenAIEmbeddings ()\n",
        "openai_embeddings_model.model"
      ],
      "metadata": {
        "id": "quFVz4XwBWK_",
        "colab": {
          "base_uri": "https://localhost:8080/",
          "height": 35
        },
        "outputId": "7d77f5c9-1e07-4f84-96b2-618c9f692f27"
      },
      "execution_count": 9,
      "outputs": [
        {
          "output_type": "execute_result",
          "data": {
            "text/plain": [
              "'text-embedding-ada-002'"
            ],
            "application/vnd.google.colaboratory.intrinsic+json": {
              "type": "string"
            }
          },
          "metadata": {},
          "execution_count": 9
        }
      ]
    },
    {
      "cell_type": "code",
      "source": [
        "cohere_embeddings_model = CohereEmbeddings(truncate='None')\n",
        "cohere_embeddings_model.model"
      ],
      "metadata": {
        "colab": {
          "base_uri": "https://localhost:8080/",
          "height": 35
        },
        "id": "fzglJXWOzwlS",
        "outputId": "5e6a32da-0644-4038-ed43-de83bbec41c5"
      },
      "execution_count": 10,
      "outputs": [
        {
          "output_type": "execute_result",
          "data": {
            "text/plain": [
              "'embed-english-v2.0'"
            ],
            "application/vnd.google.colaboratory.intrinsic+json": {
              "type": "string"
            }
          },
          "metadata": {},
          "execution_count": 10
        }
      ]
    },
    {
      "cell_type": "markdown",
      "source": [
        "## Short Strings"
      ],
      "metadata": {
        "id": "5ifXLy6r7Eh7"
      }
    },
    {
      "cell_type": "markdown",
      "source": [
        "Let's create OpenAI and Cohere embeddings from a series of strings, calculate pairwise cosine similarity and look at some heatmaps of the results.\n",
        "\n",
        "Which embedding model do you think performs better on these strings?"
      ],
      "metadata": {
        "id": "kmDAL5YX4_w7"
      }
    },
    {
      "cell_type": "code",
      "source": [
        "strings = [\"That movie was great.\",\n",
        "           \"That film was wonderful.\",\n",
        "           \"That movie was awesome.\",\n",
        "           \"That film was rotten.\",\n",
        "           \"That show was garbage.\",\n",
        "           \"Grab a snapshot of the trash\",\n",
        "           \"Take a picture of that rubbish.\",\n",
        "           \"Film the garbage.\"]\n",
        "\n",
        "openai_embeddings = openai_embeddings_model.embed_documents(strings)\n",
        "cohere_embeddings = cohere_embeddings_model.embed_documents(strings)"
      ],
      "metadata": {
        "id": "hp2HHpRPBZoN"
      },
      "execution_count": 11,
      "outputs": []
    },
    {
      "cell_type": "code",
      "source": [
        "[openai_token_count(string) for string in strings]"
      ],
      "metadata": {
        "id": "Fk3X1FwyVNrd",
        "outputId": "56b6a41f-b02d-4826-9522-70cc9940ab2e",
        "colab": {
          "base_uri": "https://localhost:8080/"
        }
      },
      "execution_count": 12,
      "outputs": [
        {
          "output_type": "execute_result",
          "data": {
            "text/plain": [
              "[5, 5, 5, 5, 5, 6, 7, 4]"
            ]
          },
          "metadata": {},
          "execution_count": 12
        }
      ]
    },
    {
      "cell_type": "code",
      "source": [
        "[cohere_token_count(string) for string in strings]"
      ],
      "metadata": {
        "id": "wBG8jW2WvzDN",
        "outputId": "c08a8faf-23c2-4eef-87d8-5d92c5812417",
        "colab": {
          "base_uri": "https://localhost:8080/"
        }
      },
      "execution_count": 13,
      "outputs": [
        {
          "output_type": "execute_result",
          "data": {
            "text/plain": [
              "[5, 5, 5, 5, 5, 6, 7, 4]"
            ]
          },
          "metadata": {},
          "execution_count": 13
        }
      ]
    },
    {
      "cell_type": "code",
      "source": [
        "embeddings_similarity_heatmap (openai_embeddings)"
      ],
      "metadata": {
        "colab": {
          "base_uri": "https://localhost:8080/",
          "height": 682
        },
        "id": "LgwvQhInVwy-",
        "outputId": "c7db7bb9-e843-472f-e7b2-3931c90bd02e"
      },
      "execution_count": 14,
      "outputs": [
        {
          "output_type": "display_data",
          "data": {
            "text/plain": [
              "<Figure size 800x800 with 2 Axes>"
            ],
            "image/png": "[encoded data removed]"
          },
          "metadata": {}
        }
      ]
    },
    {
      "cell_type": "code",
      "source": [],
      "metadata": {
        "id": "uLbE_18iCvBr"
      },
      "execution_count": 14,
      "outputs": []
    },
    {
      "cell_type": "code",
      "source": [
        "embeddings_similarity_heatmap (cohere_embeddings)"
      ],
      "metadata": {
        "colab": {
          "base_uri": "https://localhost:8080/",
          "height": 682
        },
        "id": "NTxh1bAow5Up",
        "outputId": "cf2c44a5-a50f-48f1-8638-e51dfd050abf"
      },
      "execution_count": 15,
      "outputs": [
        {
          "output_type": "display_data",
          "data": {
            "text/plain": [
              "<Figure size 800x800 with 2 Axes>"
            ],
            "image/png": "[encoded data removed]"
          },
          "metadata": {}
        }
      ]
    },
    {
      "cell_type": "markdown",
      "source": [
        "## Multilingual\n",
        "\n",
        "We use embeddings to capture semantic similarity.  What happens when we look at the same text in several languages.  Will our embeddings reflect the semantic similarity?\n",
        "\n",
        "Let's examine \"Mary had a little lamb\" in English, French and Spanish."
      ],
      "metadata": {
        "id": "rhsS6t0f6Td1"
      }
    },
    {
      "cell_type": "code",
      "source": [
        "mary_english = \"\"\"Mary had a little lamb,\n",
        "Little lamb, little lamb,\n",
        "Mary had a little lamb,\n",
        "Its fleece was white as snow\n",
        "\n",
        "Everywhere that Mary went,\n",
        "Mary went, Mary went,\n",
        "Everywhere that Mary went\n",
        "The lamb was sure to go.\n",
        "\n",
        "It followed her to school one day\n",
        "School one day, school one day\n",
        "It followed her to school one day\n",
        "Which was against the rules.\n",
        "\n",
        "It made the children laugh and play,\n",
        "Laugh and play, laugh and play,\n",
        "It made the children laugh and play\n",
        "To see the lamb at school\n",
        "\n",
        "And so the teacher turned it out,\n",
        "Turned it out, turned it out,\n",
        "And so the teacher turned it out,\n",
        "But still it lingered near\n",
        "\"\"\"\n",
        "\n",
        "mary_french = \"\"\"Mary avait un petit agneau,\n",
        "Un petit agneau, un petit agneau,\n",
        "Mary avait un petit agneau,\n",
        "C'est toison était blanche comme neige, ouais\n",
        "\n",
        "Partout, les Mary est allé,\n",
        "Mary est allé, Mary est allé\n",
        "Partout, les Mary est allé\n",
        "Le petit agneau était sûr d'aller, ouais\n",
        "\n",
        "Il la suivit à l'école un jour\n",
        "A l'école un jour, à l'école un jour\n",
        "Il la suivit à l'école un jour\n",
        "Et enfreint la règle des enseignants.\n",
        "\n",
        "Il a fait les enfants rient et jouent,\n",
        "Rire et jouer, rire et jouer,\n",
        "Il a fait les enfants rient et jouent\n",
        "Pour voir un agneau à l'école\n",
        "\n",
        "Et si l'enseignant il s'est avéré,\n",
        "Il s'est avéré, il s'est avéré,\n",
        "Et si l'enseignant il s'est avéré,\n",
        "Mais toujours il resta près de\n",
        "\"\"\"\n",
        "\n",
        "mary_spanish = \"\"\"Mary tenía un pequeño cordero,\n",
        "Pequeño cordero, pequeño cordero\n",
        "Mary tenía un pequeño cordero\n",
        "Su lana era blanca como la nieve como la nieve blanca.\n",
        "\n",
        "A cualquier lado que Mary iba\n",
        "Mary iba, Mary iba\n",
        "A cualquier lado que Mary iba\n",
        "El cordero atrás yendo iba\n",
        "\n",
        "Un día a la escuela la siguió\n",
        "A la escuela un día, a la escuela un día\n",
        "Un día a la escuela la siguió\n",
        "Y eso estaba en contra de las reglas de la misma.\n",
        "\n",
        "Hizó a los niños reír y jugar,\n",
        "Reír y jugar, reír y jugar\n",
        "Hizó a los niños reír y jugar\n",
        "De verlo en la escuela estar.\n",
        "\n",
        "Y entonces la maestra lo alejó,\n",
        "Lo alejó, lo alejó\n",
        "Y entonces la maestra lo alejó\n",
        "Pero sin embargo cerca permanecía.\n",
        "\"\"\"\n",
        "\n",
        "mary = [mary_english, mary_french, mary_spanish]\n",
        "mary_openai_embeddings = openai_embeddings_model.embed_documents(mary)\n",
        "mary_cohere_embeddings = cohere_embeddings_model.embed_documents(mary)"
      ],
      "metadata": {
        "id": "w6XlFWtDWhf8"
      },
      "execution_count": 16,
      "outputs": []
    },
    {
      "cell_type": "code",
      "source": [
        "[openai_token_count(string) for string in mary]"
      ],
      "metadata": {
        "id": "V8xZEn6M6Im8",
        "outputId": "b9afa493-9ba5-4f41-da0b-e79094bff960",
        "colab": {
          "base_uri": "https://localhost:8080/"
        }
      },
      "execution_count": 17,
      "outputs": [
        {
          "output_type": "execute_result",
          "data": {
            "text/plain": [
              "[143, 212, 218]"
            ]
          },
          "metadata": {},
          "execution_count": 17
        }
      ]
    },
    {
      "cell_type": "code",
      "source": [
        "[cohere_token_count(string) for string in mary]"
      ],
      "metadata": {
        "id": "hE9-YV1q6Iwp",
        "outputId": "f224c491-50a0-49a6-a2ea-d6edac04f1db",
        "colab": {
          "base_uri": "https://localhost:8080/"
        }
      },
      "execution_count": 18,
      "outputs": [
        {
          "output_type": "execute_result",
          "data": {
            "text/plain": [
              "[160, 284, 260]"
            ]
          },
          "metadata": {},
          "execution_count": 18
        }
      ]
    },
    {
      "cell_type": "markdown",
      "source": [
        "The OpenAI embeddings for the three renditions are similar."
      ],
      "metadata": {
        "id": "BsEhUXxT9bYp"
      }
    },
    {
      "cell_type": "code",
      "source": [
        "embeddings_similarity_heatmap (mary_openai_embeddings)"
      ],
      "metadata": {
        "id": "hYcM1WmZY0Kr",
        "colab": {
          "base_uri": "https://localhost:8080/",
          "height": 297
        },
        "outputId": "9bba93da-0547-4ac2-f898-6d3e1d5197e3"
      },
      "execution_count": 19,
      "outputs": [
        {
          "output_type": "display_data",
          "data": {
            "text/plain": [
              "<Figure size 300x300 with 2 Axes>"
            ],
            "image/png": "[encoded data removed]"
          },
          "metadata": {}
        }
      ]
    },
    {
      "cell_type": "markdown",
      "source": [
        "The Cohere embeddings are not similar."
      ],
      "metadata": {
        "id": "xKsCB6au9n12"
      }
    },
    {
      "cell_type": "code",
      "source": [
        "embeddings_similarity_heatmap (mary_cohere_embeddings)"
      ],
      "metadata": {
        "colab": {
          "base_uri": "https://localhost:8080/",
          "height": 297
        },
        "id": "HYcx3_FrPi1r",
        "outputId": "4cbc6542-2b46-44af-ea70-3a06b9eaf2a0"
      },
      "execution_count": 20,
      "outputs": [
        {
          "output_type": "display_data",
          "data": {
            "text/plain": [
              "<Figure size 300x300 with 2 Axes>"
            ],
            "image/png": "[encoded data removed]"
          },
          "metadata": {}
        }
      ]
    },
    {
      "cell_type": "markdown",
      "source": [
        "Cohere has a separate embedding model that provides multilingual embedding suport.  Unlike the `embed-english-v2.0` model which has a 512 token maximum, the `embed-multilingual-v2.0` model has a 256 token maximum.  See [Cohere multilingual language models](https://docs.cohere.com/docs/multilingual-language-models)\n",
        "\n",
        "The default Cohere embedding model is, by intent, English only.  The Cohere multilingual model is much stronger on this example.\n",
        "\n",
        "Consider how the OpenAI embedding model compares to the Cohere multilingual embedding model."
      ],
      "metadata": {
        "id": "H7Z1hIq99-9r"
      }
    },
    {
      "cell_type": "code",
      "source": [
        "cohere_multilingual_embeddings_model = CohereEmbeddings(model=\"embed-multilingual-v2.0\", truncate='None')\n",
        "cohere_multilingual_embeddings_model"
      ],
      "metadata": {
        "colab": {
          "base_uri": "https://localhost:8080/"
        },
        "id": "zn_hXAhr-t02",
        "outputId": "b3b5ba81-076b-4ce1-9383-01a267e6833d"
      },
      "execution_count": 21,
      "outputs": [
        {
          "output_type": "execute_result",
          "data": {
            "text/plain": [
              "CohereEmbeddings(client=<cohere.client.Client object at 0x7a33e8264400>, async_client=<cohere.client_async.AsyncClient object at 0x7a33e8265330>, model='embed-multilingual-v2.0', truncate='None', cohere_api_key=None)"
            ]
          },
          "metadata": {},
          "execution_count": 21
        }
      ]
    },
    {
      "cell_type": "code",
      "source": [
        "mary_cohere_multilingual_embeddings = cohere_multilingual_embeddings_model.embed_documents(mary)\n",
        "embeddings_similarity_heatmap (mary_cohere_multilingual_embeddings)"
      ],
      "metadata": {
        "colab": {
          "base_uri": "https://localhost:8080/",
          "height": 297
        },
        "id": "Aeyl38Lx_Yi1",
        "outputId": "707995be-6c62-4356-a2f1-7889022ab3bc"
      },
      "execution_count": 22,
      "outputs": [
        {
          "output_type": "display_data",
          "data": {
            "text/plain": [
              "<Figure size 300x300 with 2 Axes>"
            ],
            "image/png": "[encoded data removed]"
          },
          "metadata": {}
        }
      ]
    },
    {
      "cell_type": "markdown",
      "source": [
        "Let's add \"Three Blind Mice\", in English and compare the OpenAI and Cohere multilingual embeddings"
      ],
      "metadata": {
        "id": "qutaBB8GClzL"
      }
    },
    {
      "cell_type": "code",
      "source": [
        "mice = \"\"\"Three blind mice, three blind mice\n",
        "See how they run, see how they run\n",
        "They all run away from the farmer's wife\n",
        "Then into a space ship to take a ride\n",
        "Did you ever see such a sight in your life\n",
        "As three blind mice?\n",
        "\n",
        "Three blind mice, three blind mice\n",
        "Crash on the moon, crash on the moon\n",
        "The moon was covered in cheese so high\n",
        "And nobody knew the reason why\n",
        "Did you ever see such a sight in your life\n",
        "As three blind mice?\n",
        "\n",
        "Three blind mice, three blind mice\n",
        "With full tummies, with full tummies\n",
        "All of them ate too much cheese that night\n",
        "With little moon left after every bite\n",
        "Did you ever see such a sight in your life\n",
        "As three blind mice?\"\"\""
      ],
      "metadata": {
        "id": "FqjX-_c4dyXv"
      },
      "execution_count": 23,
      "outputs": []
    },
    {
      "cell_type": "code",
      "source": [
        "openai_token_count(mice)"
      ],
      "metadata": {
        "id": "8LPToKPh6rnp",
        "outputId": "dba4a7c1-8efb-4ea3-878f-5a93ad3c65e3",
        "colab": {
          "base_uri": "https://localhost:8080/"
        }
      },
      "execution_count": 24,
      "outputs": [
        {
          "output_type": "execute_result",
          "data": {
            "text/plain": [
              "159"
            ]
          },
          "metadata": {},
          "execution_count": 24
        }
      ]
    },
    {
      "cell_type": "code",
      "source": [
        "cohere_token_count(mice)"
      ],
      "metadata": {
        "id": "K2MuDKd-6wOo",
        "outputId": "925385db-484c-4789-b03e-656407b36881",
        "colab": {
          "base_uri": "https://localhost:8080/"
        }
      },
      "execution_count": 25,
      "outputs": [
        {
          "output_type": "execute_result",
          "data": {
            "text/plain": [
              "160"
            ]
          },
          "metadata": {},
          "execution_count": 25
        }
      ]
    },
    {
      "cell_type": "code",
      "source": [
        "mary_mice_openai_embeddings = openai_embeddings_model.embed_documents(mary + [mice])\n",
        "embeddings_similarity_heatmap (mary_mice_openai_embeddings)"
      ],
      "metadata": {
        "colab": {
          "base_uri": "https://localhost:8080/",
          "height": 374
        },
        "id": "gY_5k_Rtd9h8",
        "outputId": "56fdf94b-f7af-4138-c1cb-322665805c64"
      },
      "execution_count": 26,
      "outputs": [
        {
          "output_type": "display_data",
          "data": {
            "text/plain": [
              "<Figure size 400x400 with 2 Axes>"
            ],
            "image/png": "[encoded data removed]"
          },
          "metadata": {}
        }
      ]
    },
    {
      "cell_type": "code",
      "source": [
        "mary_mice_cohere_multilingual_embeddings = cohere_multilingual_embeddings_model.embed_documents(mary + [mice])\n",
        "embeddings_similarity_heatmap (mary_mice_cohere_multilingual_embeddings)"
      ],
      "metadata": {
        "colab": {
          "base_uri": "https://localhost:8080/",
          "height": 374
        },
        "id": "YzYHd-8OROFA",
        "outputId": "22d3238d-40e3-4b52-e91b-8d4191515566"
      },
      "execution_count": 27,
      "outputs": [
        {
          "output_type": "display_data",
          "data": {
            "text/plain": [
              "<Figure size 400x400 with 2 Axes>"
            ],
            "image/png": "[encoded data removed]"
          },
          "metadata": {}
        }
      ]
    },
    {
      "cell_type": "markdown",
      "source": [
        "What happens when we add some music lyrics to the mix."
      ],
      "metadata": {
        "id": "gR6odd_aESUd"
      }
    },
    {
      "cell_type": "code",
      "source": [
        "bohemian = \"\"\"I see a little silhouetto of a man\n",
        "Scaramouche, Scaramouche, will you do the Fandango?\n",
        "Thunderbolt and lightning, very, very frightening me\n",
        "(Galileo) Galileo, (Galileo) Galileo, Galileo Figaro, magnifico\n",
        "But I'm just a poor boy, nobody loves me\n",
        "He's just a poor boy from a poor family\n",
        "Spare him his life from this monstrosity\"\"\""
      ],
      "metadata": {
        "id": "dZmEI0FKETMF"
      },
      "execution_count": 28,
      "outputs": []
    },
    {
      "cell_type": "code",
      "source": [
        "openai_token_count(bohemian)"
      ],
      "metadata": {
        "id": "ESF2Lz9q62hI",
        "outputId": "b4621815-38a1-48b5-f7a4-81aa47e1bdf5",
        "colab": {
          "base_uri": "https://localhost:8080/"
        }
      },
      "execution_count": 29,
      "outputs": [
        {
          "output_type": "execute_result",
          "data": {
            "text/plain": [
              "97"
            ]
          },
          "metadata": {},
          "execution_count": 29
        }
      ]
    },
    {
      "cell_type": "code",
      "source": [
        "cohere_token_count(bohemian)"
      ],
      "metadata": {
        "id": "OIF6P-nC68f4",
        "outputId": "56913c0c-3a86-4f33-bbed-5e49b43c4a55",
        "colab": {
          "base_uri": "https://localhost:8080/"
        }
      },
      "execution_count": 30,
      "outputs": [
        {
          "output_type": "execute_result",
          "data": {
            "text/plain": [
              "92"
            ]
          },
          "metadata": {},
          "execution_count": 30
        }
      ]
    },
    {
      "cell_type": "code",
      "source": [
        "amalgam_openai_embeddings = openai_embeddings_model.embed_documents(mary + [mice, bohemian])\n",
        "embeddings_similarity_heatmap (amalgam_openai_embeddings)"
      ],
      "metadata": {
        "colab": {
          "base_uri": "https://localhost:8080/",
          "height": 451
        },
        "id": "kw-UvItVHbwg",
        "outputId": "75054b7e-915f-4fcf-9866-6ffc1bc1fecc"
      },
      "execution_count": 31,
      "outputs": [
        {
          "output_type": "display_data",
          "data": {
            "text/plain": [
              "<Figure size 500x500 with 2 Axes>"
            ],
            "image/png": "[encoded data removed]"
          },
          "metadata": {}
        }
      ]
    },
    {
      "cell_type": "code",
      "source": [
        "amalgam_cohere_multilingual_embeddings = cohere_multilingual_embeddings_model.embed_documents(mary + [mice, bohemian])\n",
        "embeddings_similarity_heatmap (amalgam_cohere_multilingual_embeddings)"
      ],
      "metadata": {
        "colab": {
          "base_uri": "https://localhost:8080/",
          "height": 451
        },
        "id": "dTusrJF8Hkft",
        "outputId": "0ffd8fa8-10e0-41c8-8a30-80323ad6b392"
      },
      "execution_count": 32,
      "outputs": [
        {
          "output_type": "display_data",
          "data": {
            "text/plain": [
              "<Figure size 500x500 with 2 Axes>"
            ],
            "image/png": "[encoded data removed]"
          },
          "metadata": {}
        }
      ]
    },
    {
      "cell_type": "markdown",
      "source": [
        "# Vector Databases"
      ],
      "metadata": {
        "id": "4-zF6E82OES8"
      }
    },
    {
      "cell_type": "markdown",
      "source": [
        "## Introduction\n",
        "\n",
        "A vector database, also known as a vector search engine or similarity search database, is a type of database that specializes in storing and retrieving high-dimensional vectors efficiently.  The embeddings we have been using are high-dimensional vectors.\n",
        "\n",
        "In the context of question answering tasks, vector databases can be particularly useful for tasks like semantic search, where you want to find documents or data points that are semantically similar to a given query.\n",
        "\n",
        "Traditional relational databases are not well-suited for efficiently querying and retrieving semantically similar data. Vector databases, on the other hand, are designed to handle similarity-based searches efficiently.\n",
        "\n",
        "Vector databases are an essential component of modern natural language processing solutions that are built to apply the generative capabilities of large language models to data collections.  This approach is called retrieval augmented generation or \"RAG\".\n",
        "\n",
        "RAG is used in tasks like question answering.  With RAG, a retrieval component first selects a set of relevant documents or passages from a larger corpus, and then a generation component generates the final response based on the selected information. This approach aims to combine the accuracy of retrieval with the flexibility of generation.\n",
        "\n",
        "We will use Chroma, a simple vector database and explore some of the most important concepts.\n"
      ],
      "metadata": {
        "id": "FDPR34aEOEe5"
      }
    },
    {
      "cell_type": "code",
      "source": [
        "!pip install --quiet chromadb\n",
        "from langchain.vectorstores import Chroma"
      ],
      "metadata": {
        "id": "McW_mfokeGZy",
        "colab": {
          "base_uri": "https://localhost:8080/"
        },
        "outputId": "d9268839-08c9-42b0-9f2b-d2bf5a006705"
      },
      "execution_count": 33,
      "outputs": [
        {
          "output_type": "stream",
          "name": "stdout",
          "text": [
            "\u001b[?25l     \u001b[90m━━━━━━━━━━━━━━━━━━━━━━━━━━━━━━━━━━━━━━━━\u001b[0m \u001b[32m0.0/402.8 kB\u001b[0m \u001b[31m?\u001b[0m eta \u001b[36m-:--:--\u001b[0m\r\u001b[2K     \u001b[91m━━━\u001b[0m\u001b[90m╺\u001b[0m\u001b[90m━━━━━━━━━━━━━━━━━━━━━━━━━━━━━━━━━━━━\u001b[0m \u001b[32m30.7/402.8 kB\u001b[0m \u001b[31m1.2 MB/s\u001b[0m eta \u001b[36m0:00:01\u001b[0m\r\u001b[2K     \u001b[91m━━━━━━━━━━━━━━━━━━━━━━━\u001b[0m\u001b[91m╸\u001b[0m\u001b[90m━━━━━━━━━━━━━━━\u001b[0m \u001b[32m245.8/402.8 kB\u001b[0m \u001b[31m4.3 MB/s\u001b[0m eta \u001b[36m0:00:01\u001b[0m\r\u001b[2K     \u001b[91m━━━━━━━━━━━━━━━━━━━━━━━━━━━━━━━━━━━━━━\u001b[0m\u001b[91m╸\u001b[0m \u001b[32m399.4/402.8 kB\u001b[0m \u001b[31m5.4 MB/s\u001b[0m eta \u001b[36m0:00:01\u001b[0m\r\u001b[2K     \u001b[90m━━━━━━━━━━━━━━━━━━━━━━━━━━━━━━━━━━━━━━━\u001b[0m \u001b[32m402.8/402.8 kB\u001b[0m \u001b[31m3.5 MB/s\u001b[0m eta \u001b[36m0:00:00\u001b[0m\n",
            "\u001b[?25h  Installing build dependencies ... \u001b[?25l\u001b[?25hdone\n",
            "  Getting requirements to build wheel ... \u001b[?25l\u001b[?25hdone\n",
            "  Preparing metadata (pyproject.toml) ... \u001b[?25l\u001b[?25hdone\n",
            "\u001b[2K     \u001b[90m━━━━━━━━━━━━━━━━━━━━━━━━━━━━━━━━━━━━━━━━\u001b[0m \u001b[32m58.4/58.4 kB\u001b[0m \u001b[31m6.2 MB/s\u001b[0m eta \u001b[36m0:00:00\u001b[0m\n",
            "\u001b[2K     \u001b[90m━━━━━━━━━━━━━━━━━━━━━━━━━━━━━━━━━━━━━━━━\u001b[0m \u001b[32m59.5/59.5 kB\u001b[0m \u001b[31m6.1 MB/s\u001b[0m eta \u001b[36m0:00:00\u001b[0m\n",
            "\u001b[2K     \u001b[90m━━━━━━━━━━━━━━━━━━━━━━━━━━━━━━━━━━━━━━━━\u001b[0m \u001b[32m5.3/5.3 MB\u001b[0m \u001b[31m17.3 MB/s\u001b[0m eta \u001b[36m0:00:00\u001b[0m\n",
            "\u001b[2K     \u001b[90m━━━━━━━━━━━━━━━━━━━━━━━━━━━━━━━━━━━━━━━━\u001b[0m \u001b[32m5.9/5.9 MB\u001b[0m \u001b[31m41.6 MB/s\u001b[0m eta \u001b[36m0:00:00\u001b[0m\n",
            "\u001b[2K     \u001b[90m━━━━━━━━━━━━━━━━━━━━━━━━━━━━━━━━━━━━━━━━\u001b[0m \u001b[32m7.8/7.8 MB\u001b[0m \u001b[31m66.1 MB/s\u001b[0m eta \u001b[36m0:00:00\u001b[0m\n",
            "\u001b[2K     \u001b[90m━━━━━━━━━━━━━━━━━━━━━━━━━━━━━━━━━━━━━━━━\u001b[0m \u001b[32m67.3/67.3 kB\u001b[0m \u001b[31m7.3 MB/s\u001b[0m eta \u001b[36m0:00:00\u001b[0m\n",
            "\u001b[?25h  Installing build dependencies ... \u001b[?25l\u001b[?25hdone\n",
            "  Getting requirements to build wheel ... \u001b[?25l\u001b[?25hdone\n",
            "  Preparing metadata (pyproject.toml) ... \u001b[?25l\u001b[?25hdone\n",
            "\u001b[2K     \u001b[90m━━━━━━━━━━━━━━━━━━━━━━━━━━━━━━━━━━━━━━━━\u001b[0m \u001b[32m67.0/67.0 kB\u001b[0m \u001b[31m7.2 MB/s\u001b[0m eta \u001b[36m0:00:00\u001b[0m\n",
            "\u001b[2K     \u001b[90m━━━━━━━━━━━━━━━━━━━━━━━━━━━━━━━━━━━━━━━━\u001b[0m \u001b[32m46.0/46.0 kB\u001b[0m \u001b[31m5.2 MB/s\u001b[0m eta \u001b[36m0:00:00\u001b[0m\n",
            "\u001b[2K     \u001b[90m━━━━━━━━━━━━━━━━━━━━━━━━━━━━━━━━━━━━━━━━\u001b[0m \u001b[32m58.3/58.3 kB\u001b[0m \u001b[31m6.7 MB/s\u001b[0m eta \u001b[36m0:00:00\u001b[0m\n",
            "\u001b[2K     \u001b[90m━━━━━━━━━━━━━━━━━━━━━━━━━━━━━━━━━━━━━━\u001b[0m \u001b[32m428.8/428.8 kB\u001b[0m \u001b[31m36.3 MB/s\u001b[0m eta \u001b[36m0:00:00\u001b[0m\n",
            "\u001b[2K     \u001b[90m━━━━━━━━━━━━━━━━━━━━━━━━━━━━━━━━━━━━━━━━\u001b[0m \u001b[32m4.1/4.1 MB\u001b[0m \u001b[31m63.7 MB/s\u001b[0m eta \u001b[36m0:00:00\u001b[0m\n",
            "\u001b[2K     \u001b[90m━━━━━━━━━━━━━━━━━━━━━━━━━━━━━━━━━━━━━━━━\u001b[0m \u001b[32m1.3/1.3 MB\u001b[0m \u001b[31m56.0 MB/s\u001b[0m eta \u001b[36m0:00:00\u001b[0m\n",
            "\u001b[2K     \u001b[90m━━━━━━━━━━━━━━━━━━━━━━━━━━━━━━━━━━━━━━\u001b[0m \u001b[32m129.9/129.9 kB\u001b[0m \u001b[31m13.0 MB/s\u001b[0m eta \u001b[36m0:00:00\u001b[0m\n",
            "\u001b[2K     \u001b[90m━━━━━━━━━━━━━━━━━━━━━━━━━━━━━━━━━━━━━━━━\u001b[0m \u001b[32m86.8/86.8 kB\u001b[0m \u001b[31m8.3 MB/s\u001b[0m eta \u001b[36m0:00:00\u001b[0m\n",
            "\u001b[?25h  Building wheel for chroma-hnswlib (pyproject.toml) ... \u001b[?25l\u001b[?25hdone\n",
            "  Building wheel for pypika (pyproject.toml) ... \u001b[?25l\u001b[?25hdone\n"
          ]
        }
      ]
    },
    {
      "cell_type": "markdown",
      "source": [
        "## Document Chunking\n",
        "\n",
        "Document chunking, also known as text segmentation or document splitting, refers to the process of breaking down large documents or pieces of text into smaller, manageable segments before feeding them to large language models. There are several reasons why chunking is important when working with these models.\n",
        "\n",
        "Chunking documents when working with large language models is essential to overcome input limitations, improve performance, manage costs, ensure complete responses, maintain contextual coherence, and guide the model's attention effectively. It allows you to make the most out of these powerful models when dealing with lengthy or complex text documents.\n",
        "\n",
        "In the following code cells, we will download several corporate privay policies from the web.  We will use document loaders specific to `pdf` files or `urls` as the case may be.\n",
        "\n",
        "We the use LangChain's `RecursiveCharacterTextSplitter` to chunk each document.  See the relevant [LangChain documentation](https://python.langchain.com/docs/modules/data_connection/document_transformers/text_splitters/recursive_text_splitter).\n",
        "\n",
        "We add a piece of metadata that identifies the relevant organization for each chunk.  We discuss this in greater detail below."
      ],
      "metadata": {
        "id": "afB_K7CtfKUF"
      }
    },
    {
      "cell_type": "code",
      "source": [
        "!pip install --quiet pypdf unstructured\n",
        "\n",
        "import textwrap\n",
        "from langchain.document_loaders import PyPDFLoader, UnstructuredURLLoader\n",
        "from langchain.text_splitter import RecursiveCharacterTextSplitter"
      ],
      "metadata": {
        "id": "cwfjt4R5hMy6",
        "colab": {
          "base_uri": "https://localhost:8080/"
        },
        "outputId": "5a338c1c-e3df-4680-f25d-cbc2ee632afe"
      },
      "execution_count": 34,
      "outputs": [
        {
          "output_type": "stream",
          "name": "stdout",
          "text": [
            "\u001b[2K     \u001b[90m━━━━━━━━━━━━━━━━━━━━━━━━━━━━━━━━━━━━━━━\u001b[0m \u001b[32m270.3/270.3 kB\u001b[0m \u001b[31m1.8 MB/s\u001b[0m eta \u001b[36m0:00:00\u001b[0m\n",
            "\u001b[2K     \u001b[90m━━━━━━━━━━━━━━━━━━━━━━━━━━━━━━━━━━━━━━━━\u001b[0m \u001b[32m1.4/1.4 MB\u001b[0m \u001b[31m2.1 MB/s\u001b[0m eta \u001b[36m0:00:00\u001b[0m\n",
            "\u001b[?25h"
          ]
        }
      ]
    },
    {
      "cell_type": "code",
      "source": [
        "Apple_Privacy_Policy = \"https://www.apple.com/legal/privacy/pdfs/apple-privacy-policy-en-ww.pdf\"\n",
        "Google_Privacy_Policy = \"https://static.googleusercontent.com/media/www.google.com/en//intl/en/policies/privacy/google_privacy_policy_en.pdf\"\n",
        "Meta_Privacy_Policy = \"https://about.fb.com/wp-content/uploads/2022/07/Privacy-Within-Metas-Integrity-Systems.pdf\"\n",
        "TikTok_Privacy_Policy = \"https://www.tiktok.com/legal/page/us/privacy-policy/en\"\n",
        "Threads_Privacy_Policy = \"https://terms.threads.com/privacy-policy\"\n"
      ],
      "metadata": {
        "id": "Ch1pJycHjh0L"
      },
      "execution_count": 35,
      "outputs": []
    },
    {
      "cell_type": "code",
      "source": [
        "def get_chunks (path, organization, chunk_size=1500, chunk_overlap=150):\n",
        "\n",
        "    \"\"\"\n",
        "    This function takes a url to an organization's web page and returns\n",
        "    embeddings constructed from the target url.  The function adds the\n",
        "    organization name as metadata to the embeddings.\n",
        "\n",
        "    Parameters:\n",
        "    path (string): Target page.\n",
        "    organization (string): Organization name.\n",
        "    chunk_size (int, optional): Chunk size, default is 1500 characters.\n",
        "    chunk_overlap (int, optional): Chunk overlap, default is 150 characters.\n",
        "\n",
        "    Returns:\n",
        "    list of chunks\n",
        "    \"\"\"\n",
        "\n",
        "    # Use PyPDFLoader for pdf targets, otherwise UnstructuredURLLoader\n",
        "    if os.path.splitext(path)[1] == \".pdf\":\n",
        "      loader = PyPDFLoader(path)\n",
        "    else:\n",
        "      loader = UnstructuredURLLoader(urls=[path])\n",
        "\n",
        "    # Load the documents and add organization metadata field.\n",
        "    # Increment page count metadata by one so it's not zero-based.\n",
        "\n",
        "    documents = loader.load()\n",
        "    for document in documents:\n",
        "      metadata = document.metadata\n",
        "      metadata['organization'] = organization\n",
        "      if metadata.get('page', None) is not None:\n",
        "        metadata['page'] += 1\n",
        "\n",
        "    text_splitter = RecursiveCharacterTextSplitter(chunk_size=chunk_size,\n",
        "                                                   chunk_overlap=chunk_overlap)\n",
        "\n",
        "    return text_splitter.split_documents(documents)\n",
        "\n",
        "def explore_documents (documents):\n",
        "  block_indent = \"   \"\n",
        "  print(f\"{len(documents)} chunks\")\n",
        "  print(\"First chunk:\")\n",
        "  print(f\" Metadata: {documents[0].metadata}\\n Contents:\")\n",
        "  print(textwrap.fill(documents[0].page_content,\n",
        "                      initial_indent=block_indent,\n",
        "                      subsequent_indent=block_indent,\n",
        "                      replace_whitespace=True))"
      ],
      "metadata": {
        "id": "aVsFWsVbAVFm"
      },
      "execution_count": 36,
      "outputs": []
    },
    {
      "cell_type": "code",
      "source": [
        "chunks = get_chunks(Apple_Privacy_Policy, \"Apple\")\n",
        "explore_documents(chunks)"
      ],
      "metadata": {
        "colab": {
          "base_uri": "https://localhost:8080/"
        },
        "id": "L5u6u1rmTDLY",
        "outputId": "d7d2d307-7bd5-401b-ee38-e51b0a662549"
      },
      "execution_count": 37,
      "outputs": [
        {
          "output_type": "stream",
          "name": "stdout",
          "text": [
            "24 chunks\n",
            "First chunk:\n",
            " Metadata: {'source': '/tmp/tmpjyu5ky8v/tmp.pdf', 'page': 1, 'organization': 'Apple'}\n",
            " Contents:\n",
            "   Apple Privacy Policy Apple’s Privacy Policy describes how Apple\n",
            "   collects, uses, and shares your personal data. Updated December 22,\n",
            "   2022  In addition to this Privacy Policy, we provide data and\n",
            "   privacy information embedded in our products and certain features\n",
            "   that ask to use your personal data. This product-specific\n",
            "   information is accompanied by our Data & Privacy Icon.  You will be\n",
            "   given an opportunity to review this product-specific information\n",
            "   before using these features. You also can view this information at\n",
            "   any time, either in Settings related to those features and/or\n",
            "   online at apple.com/legal/privacy/data.  You can familiarize\n",
            "   yourself with our privacy practices, accessible via the headings\n",
            "   below, and contact us if you have questions. Apple Health Study\n",
            "   Apps Privacy Policy\n"
          ]
        }
      ]
    },
    {
      "cell_type": "code",
      "source": [
        "chunks = get_chunks(Google_Privacy_Policy, \"Google\")\n",
        "explore_documents(chunks)"
      ],
      "metadata": {
        "colab": {
          "base_uri": "https://localhost:8080/"
        },
        "id": "0w2DFNOtoXgV",
        "outputId": "4f2fa88c-df4b-41e8-adb7-24d765f0740f"
      },
      "execution_count": 38,
      "outputs": [
        {
          "output_type": "stream",
          "name": "stdout",
          "text": [
            "22 chunks\n",
            "First chunk:\n",
            " Metadata: {'source': '/tmp/tmp5f5387sx/tmp.pdf', 'page': 1, 'organization': 'Google'}\n",
            " Contents:\n",
            "   Privacy Policy Last modified: December 18, 2017 ( view archived\n",
            "   versions ) (The hyperlinked examples are available at the end of\n",
            "   this document.) There are many different ways you can use our\n",
            "   services – to search for and share information, to communicate with\n",
            "   other people or to create new content. When you share information\n",
            "   with us, for example by creating a Google Account , we can make\n",
            "   those services even better – to show you more relevant search\n",
            "   results  and ads, to help you connect with people  or to make\n",
            "   sharing with others quicker and easier . As you use our services,\n",
            "   we want you to be clear how we’re using information and the ways in\n",
            "   which you can protect your privacy. Our Privacy Policy explains:\n",
            "   What information we collect and why we collect it.  How we use that\n",
            "   information.  The choices we offer, including how to access and\n",
            "   update information. We’ve tried to keep it as simple as possible,\n",
            "   but if you’re not familiar with terms like cookies, IP addresses,\n",
            "   pixel tags and browsers, then read about these key terms  first.\n",
            "   Your privacy matters to Google so whether you are new to Google or\n",
            "   a long- time user, please do take the time to get to know our\n",
            "   practices – and if you have any questions contact us . Information\n",
            "   we collect We collect information to provide better services to all\n",
            "   of our users – from figuring out basic stuff like which language\n",
            "   you speak, to more complex things like which ads you’ll find most\n",
            "   useful , the people who matter most to you online , or which\n"
          ]
        }
      ]
    },
    {
      "cell_type": "code",
      "source": [
        "chunks = get_chunks(Meta_Privacy_Policy, \"Meta\")\n",
        "explore_documents(chunks)"
      ],
      "metadata": {
        "colab": {
          "base_uri": "https://localhost:8080/"
        },
        "id": "RBjqKs99Ucry",
        "outputId": "f8dba2c9-a6bf-46b9-8731-ac1c4d140aef"
      },
      "execution_count": 39,
      "outputs": [
        {
          "output_type": "stream",
          "name": "stdout",
          "text": [
            "50 chunks\n",
            "First chunk:\n",
            " Metadata: {'source': '/tmp/tmpwc2r3lbv/tmp.pdf', 'page': 1, 'organization': 'Meta'}\n",
            " Contents:\n",
            "   July 2022   Privacy within Meta’s   Integrity Systems   Why user\n",
            "   rights are at the center   of our safety and security approach\n"
          ]
        }
      ]
    },
    {
      "cell_type": "code",
      "source": [
        "chunks = get_chunks(TikTok_Privacy_Policy, \"TikTok\")\n",
        "explore_documents(chunks)"
      ],
      "metadata": {
        "colab": {
          "base_uri": "https://localhost:8080/"
        },
        "id": "s_bcaOq1p1c4",
        "outputId": "dfe123f7-25bb-43c9-f7be-3b39dd3f2532"
      },
      "execution_count": 40,
      "outputs": [
        {
          "output_type": "stream",
          "name": "stderr",
          "text": [
            "[nltk_data] Downloading package punkt to /root/nltk_data...\n",
            "[nltk_data]   Unzipping tokenizers/punkt.zip.\n",
            "[nltk_data] Downloading package averaged_perceptron_tagger to\n",
            "[nltk_data]     /root/nltk_data...\n",
            "[nltk_data]   Unzipping taggers/averaged_perceptron_tagger.zip.\n"
          ]
        },
        {
          "output_type": "stream",
          "name": "stdout",
          "text": [
            "24 chunks\n",
            "First chunk:\n",
            " Metadata: {'source': 'https://www.tiktok.com/legal/page/us/privacy-policy/en', 'organization': 'TikTok'}\n",
            " Contents:\n",
            "   How TikTok is supporting our community through COVID-19  U.S.\n",
            "   Privacy Policy  Last updated: May 22, 2023  This Privacy Policy\n",
            "   applies to TikTok services (the “Platform”), which include TikTok\n",
            "   apps, websites, software and related services accessed via any\n",
            "   platform or device that link to this Privacy Policy. The Platform\n",
            "   is provided and controlled by TikTok Inc. (“TikTok”, “we” or “us”).\n",
            "   We are committed to protecting and respecting your privacy. This\n",
            "   Privacy Policy explains how we collect, use, share, and otherwise\n",
            "   process the personal information of users and other individuals age\n",
            "   13 and over in connection with our Platform. For information about\n",
            "   how we collect, use, share, and otherwise process the personal\n",
            "   information of users under age 13 (“Children”), please refer to our\n",
            "   Children’s Privacy Policy.  Capitalized terms that are not defined\n",
            "   in this Privacy Policy have the meaning given to them in the Terms\n",
            "   of Service.  What Information We Collect  We may collect\n",
            "   information from and about you, including information that you\n",
            "   provide, information from other sources, and automatically\n",
            "   collected information.  Information You Provide  When you create an\n",
            "   account, upload content, contact us directly, or otherwise use the\n",
            "   Platform, you may provide some or all of the following information:\n",
            "   Account and profile information, such as name, age, username,\n",
            "   password, language, email, phone number, social media account\n",
            "   information, and profile image.\n"
          ]
        }
      ]
    },
    {
      "cell_type": "code",
      "source": [
        "chunks = get_chunks(Threads_Privacy_Policy, \"Threads\")\n",
        "explore_documents(chunks)"
      ],
      "metadata": {
        "colab": {
          "base_uri": "https://localhost:8080/"
        },
        "id": "G0WGzunGHSJv",
        "outputId": "77e0741e-53d1-44fb-95c7-0c8c229fbb04"
      },
      "execution_count": 41,
      "outputs": [
        {
          "output_type": "stream",
          "name": "stdout",
          "text": [
            "17 chunks\n",
            "First chunk:\n",
            " Metadata: {'source': 'https://terms.threads.com/privacy-policy', 'organization': 'Threads'}\n",
            " Contents:\n",
            "   🤝Legal  Privacy Policy  Effective date: April 17, 2023  At Threads,\n",
            "   we take your privacy seriously. Please read this Privacy Policy to\n",
            "   learn how we treat your personal data. By using or accessing\n",
            "   Threads in any manner, you acknowledge that you accept the\n",
            "   practices and policies outlined below, and you hereby consent that\n",
            "   we will collect, use and share your information as described in\n",
            "   this Privacy Policy.  Remember that your use of Threads is at all\n",
            "   times subject to our Terms of Use, which incorporates this Privacy\n",
            "   Policy. Any terms we use in this Policy without defining them have\n",
            "   the definitions given to them in the Terms of Use.  You may access\n",
            "   this Privacy Policy in an alternative format by contacting\n",
            "   privacy@threads.com.  As we continually work to improve Threads, we\n",
            "   may need to change this Privacy Policy from time to time. Upon such\n",
            "   changes, we will alert you to any such changes by placing a notice\n",
            "   on our website, by sending you an email and/or by some other means.\n",
            "   Please note that if you’ve opted not to receive legal notice emails\n",
            "   from us (or you haven’t provided us with your email address), those\n",
            "   legal notices will still govern your use of Threads, and you are\n",
            "   still responsible for reading and understanding them. If you use\n",
            "   Threads after any changes to the Privacy Policy have been posted,\n",
            "   that means you agree to all of the changes.\n"
          ]
        }
      ]
    },
    {
      "cell_type": "markdown",
      "source": [
        "## Create Vector Database from Chunked Documents\n",
        "\n",
        "We will use the `get_chunks` helper function we used above to assemble a list of all the chunks and then pass that list to a function that instantiates a vector database from those chunks and an embedding model."
      ],
      "metadata": {
        "id": "gQR8k6piWmH5"
      }
    },
    {
      "cell_type": "code",
      "source": [
        "# Iterate over the organization names to build up a single list of chunks.\n",
        "\n",
        "chunks = []\n",
        "organizations = [\"Apple\", \"Google\", \"Meta\", \"TikTok\", \"Threads\"]\n",
        "\n",
        "for organization in organizations:\n",
        "  policy_url = locals()[f\"{organization}_Privacy_Policy\"]\n",
        "  policy_chunks = get_chunks(policy_url, organization)\n",
        "  print (f\"{organization}'s privacy policy yielded {len(policy_chunks)} chunks.\")\n",
        "  chunks += policy_chunks"
      ],
      "metadata": {
        "colab": {
          "base_uri": "https://localhost:8080/"
        },
        "id": "5uUzovnbXBqF",
        "outputId": "98b6f6e5-e4e8-4750-94ad-acf48ed62f31"
      },
      "execution_count": 42,
      "outputs": [
        {
          "output_type": "stream",
          "name": "stdout",
          "text": [
            "Apple's privacy policy yielded 24 chunks.\n",
            "Google's privacy policy yielded 22 chunks.\n",
            "Meta's privacy policy yielded 50 chunks.\n",
            "TikTok's privacy policy yielded 24 chunks.\n",
            "Threads's privacy policy yielded 17 chunks.\n"
          ]
        }
      ]
    },
    {
      "cell_type": "code",
      "source": [
        "# There are 137 chunks in all.\n",
        "\n",
        "len(chunks)"
      ],
      "metadata": {
        "colab": {
          "base_uri": "https://localhost:8080/"
        },
        "id": "nQq92zFXYgas",
        "outputId": "3e24fac7-ffc7-4ea5-cffc-80cde427f24f"
      },
      "execution_count": 43,
      "outputs": [
        {
          "output_type": "execute_result",
          "data": {
            "text/plain": [
              "137"
            ]
          },
          "metadata": {},
          "execution_count": 43
        }
      ]
    },
    {
      "cell_type": "code",
      "source": [
        "# Let's take a look at a couple of chunks.\n",
        "\n",
        "chunks[22]"
      ],
      "metadata": {
        "colab": {
          "base_uri": "https://localhost:8080/"
        },
        "id": "8DkhrnqRaXwi",
        "outputId": "06f0299c-a914-4738-a067-4657143b8279"
      },
      "execution_count": 44,
      "outputs": [
        {
          "output_type": "execute_result",
          "data": {
            "text/plain": [
              "Document(page_content='Our Companywide Commitment to Your\\xa0Privacy To make sure your personal data is secure, we communicate our privacy and security guidelines to Apple employees and strictly enforce privacy safeguards within the company. Privacy Questions If you have questions about Apple’s Privacy Policy or privacy practices including where a third-party service provider is acting on our behalf, or you would like to contact our Data Protection Officer, you can contact us at apple.com/legal/privacy/contact or call the Apple Support number for your country or region. You can also ask us questions about how to submit a privacy complaint and we will endeavor to help.  Apple takes your privacy questions seriously. A dedicated team reviews your inquiry to determine how best to respond to your question or concern, including those inquiries received in response to an access or download request. In most cases, all substantive contacts receive a response within seven days. In other cases, we may require additional information or let you know that we need more time to respond. Where your complaint indicates an improvement could be made in our handling of privacy issues, we will take steps to make such an update at the next reasonable opportunity. In the event that a privacy issue has resulted in a negative impact on you or another person, we will take steps to address that with you or that other person. You may at any time — including if you are not satisfied with Apple’s response — refer your complaint to', metadata={'source': '/tmp/tmpz4atblk3/tmp.pdf', 'page': 9, 'organization': 'Apple'})"
            ]
          },
          "metadata": {},
          "execution_count": 44
        }
      ]
    },
    {
      "cell_type": "code",
      "source": [
        "chunks[128]"
      ],
      "metadata": {
        "colab": {
          "base_uri": "https://localhost:8080/"
        },
        "id": "r2Z226oDai04",
        "outputId": "82747996-1307-4f13-9d00-13afb6104c57"
      },
      "execution_count": 45,
      "outputs": [
        {
          "output_type": "execute_result",
          "data": {
            "text/plain": [
              "Document(page_content='You can learn more about our use of Cookies on our\\xa0Cookie Policy.\\n\\nData Security\\n\\nWe seek to protect your Personal Data from unauthorized access, use and disclosure using appropriate physical, technical, organizational and administrative security measures based on the type of Personal Data and how we are processing that data. You should also help protect your data by appropriately selecting and protecting your password and/or other sign-on mechanism; limiting access to your computer or device and browser; and signing off after you have finished accessing your account. Although we work to protect the security of your account and other data that we hold in our records, please be aware that no method of transmitting data over the internet or storing data is completely secure.\\n\\nData Retention', metadata={'source': 'https://terms.threads.com/privacy-policy', 'organization': 'Threads'})"
            ]
          },
          "metadata": {},
          "execution_count": 45
        }
      ]
    },
    {
      "cell_type": "code",
      "source": [
        "LLM_SOURCE=\"Cohere\"  #set this to either \"OpenAI\" or \"Cohere\"\n",
        "\n",
        "if LLM_SOURCE==\"OpenAI\":\n",
        "  embeddings_model=openai_embeddings_model\n",
        "else:\n",
        "  embeddings_model=cohere_embeddings_model\n",
        "\n",
        "vectordb = Chroma.from_documents(documents=chunks, embedding=embeddings_model)"
      ],
      "metadata": {
        "id": "BwggMZsAamu8"
      },
      "execution_count": 46,
      "outputs": []
    },
    {
      "cell_type": "code",
      "source": [
        "assert vectordb._collection.count() == len(chunks)"
      ],
      "metadata": {
        "id": "FpHwbcryb60a"
      },
      "execution_count": 47,
      "outputs": []
    },
    {
      "cell_type": "markdown",
      "source": [
        "## Query the Vector Database"
      ],
      "metadata": {
        "id": "8CRD3Ig9fc62"
      }
    },
    {
      "cell_type": "markdown",
      "source": [
        "A similarity search that returns the four vectors closest to the query by default."
      ],
      "metadata": {
        "id": "RXpaG3wzko7A"
      }
    },
    {
      "cell_type": "code",
      "source": [
        "query = \"Does Apple sell my personal data?\"\n",
        "results = vectordb.similarity_search(query)\n",
        "[result.metadata for result in results]"
      ],
      "metadata": {
        "colab": {
          "base_uri": "https://localhost:8080/"
        },
        "id": "pzoZVkSKfkrG",
        "outputId": "687adbeb-ef00-4bc5-a7de-8db5342a22d5"
      },
      "execution_count": 48,
      "outputs": [
        {
          "output_type": "execute_result",
          "data": {
            "text/plain": [
              "[{'organization': 'Apple', 'page': 6, 'source': '/tmp/tmpz4atblk3/tmp.pdf'},\n",
              " {'organization': 'Apple', 'page': 4, 'source': '/tmp/tmpz4atblk3/tmp.pdf'},\n",
              " {'organization': 'Apple', 'page': 5, 'source': '/tmp/tmpz4atblk3/tmp.pdf'},\n",
              " {'organization': 'Apple', 'page': 2, 'source': '/tmp/tmpz4atblk3/tmp.pdf'}]"
            ]
          },
          "metadata": {},
          "execution_count": 48
        }
      ]
    },
    {
      "cell_type": "markdown",
      "source": [
        "Examine the first result in the list.  It looks to be responsive to the question."
      ],
      "metadata": {
        "id": "2O57ZTQglCRS"
      }
    },
    {
      "cell_type": "code",
      "source": [
        "print(textwrap.fill(results[0].page_content))"
      ],
      "metadata": {
        "colab": {
          "base_uri": "https://localhost:8080/"
        },
        "id": "ofhvMvk4jKRz",
        "outputId": "0ff0f948-6347-4e9a-8672-b61a95f53716"
      },
      "execution_count": 49,
      "outputs": [
        {
          "output_type": "stream",
          "name": "stdout",
          "text": [
            "Apple’s Sharing of Personal Data Apple may share personal data with\n",
            "Apple-affiliated companies, service providers who act on our behalf,\n",
            "our partners, developers, and publishers, or others at your direction.\n",
            "Apple does not share personal data with third parties for their own\n",
            "marketing purposes.  •Service Providers. Apple may engage third\n",
            "parties to act as our service providers and perform certain tasks on\n",
            "our behalf, such as processing or storing data, including personal\n",
            "data, in connection with your use of our services and delivering\n",
            "products to customers. Apple service providers are obligated to handle\n",
            "personal data consistent with this Privacy Policy and according to our\n",
            "instructions. •Partners. At times, Apple may partner with third\n",
            "parties to provide services or other offerings. For example, Apple\n",
            "financial offerings like Apple Card and Apple Cash are offered by\n",
            "Apple and our partners. Apple requires its partners to protect your\n",
            "personal data. •Developers and Publishers from Whom You Get a\n",
            "Subscription. If you purchase a third-party subscription from the App\n",
            "Store or within Apple News, we create a Subscriber ID that is unique\n",
            "to you and the developer or publisher. The Subscriber ID may be used\n",
            "to provide reports to the developer or publisher, which include\n",
            "information about the subscription you purchased and your country of\n",
            "residence. If you cancel all of your subscriptions from a particular\n",
            "developer or publisher, the Subscriber ID will reset after 180 days if\n",
            "you do\n"
          ]
        }
      ]
    },
    {
      "cell_type": "markdown",
      "source": [
        "Increase the number of results to 10."
      ],
      "metadata": {
        "id": "aO1blNMelaJm"
      }
    },
    {
      "cell_type": "code",
      "source": [
        "query = \"Does Apple sell my personal data?\"\n",
        "results = vectordb.similarity_search(query, k=10)\n",
        "[result.metadata for result in results]"
      ],
      "metadata": {
        "colab": {
          "base_uri": "https://localhost:8080/"
        },
        "id": "RAHwXFKDgVFU",
        "outputId": "0f5feee1-178c-4ece-9244-9c4de218be55"
      },
      "execution_count": 50,
      "outputs": [
        {
          "output_type": "execute_result",
          "data": {
            "text/plain": [
              "[{'organization': 'Apple', 'page': 6, 'source': '/tmp/tmpz4atblk3/tmp.pdf'},\n",
              " {'organization': 'Apple', 'page': 4, 'source': '/tmp/tmpz4atblk3/tmp.pdf'},\n",
              " {'organization': 'Apple', 'page': 5, 'source': '/tmp/tmpz4atblk3/tmp.pdf'},\n",
              " {'organization': 'Apple', 'page': 2, 'source': '/tmp/tmpz4atblk3/tmp.pdf'},\n",
              " {'organization': 'Apple', 'page': 3, 'source': '/tmp/tmpz4atblk3/tmp.pdf'},\n",
              " {'organization': 'Apple', 'page': 4, 'source': '/tmp/tmpz4atblk3/tmp.pdf'},\n",
              " {'organization': 'Apple', 'page': 4, 'source': '/tmp/tmpz4atblk3/tmp.pdf'},\n",
              " {'organization': 'Apple', 'page': 1, 'source': '/tmp/tmpz4atblk3/tmp.pdf'},\n",
              " {'organization': 'Apple', 'page': 2, 'source': '/tmp/tmpz4atblk3/tmp.pdf'},\n",
              " {'organization': 'Apple', 'page': 2, 'source': '/tmp/tmpz4atblk3/tmp.pdf'}]"
            ]
          },
          "metadata": {},
          "execution_count": 50
        }
      ]
    },
    {
      "cell_type": "markdown",
      "source": [
        "When we ask about Apple's use of cookies, there's a problem.  We get responses that don't relate to Apple.\n",
        "\n",
        "Can you imagine why?"
      ],
      "metadata": {
        "id": "egjUC7IYmSBo"
      }
    },
    {
      "cell_type": "code",
      "source": [
        "query = \"Does Apple use cookies?\"\n",
        "results = vectordb.similarity_search (query, k=10)\n",
        "[result.metadata for result in results]"
      ],
      "metadata": {
        "colab": {
          "base_uri": "https://localhost:8080/"
        },
        "id": "PCnCCSX-g1vk",
        "outputId": "65f6eb8a-e9a7-42c2-ef96-dc99b592c6f3"
      },
      "execution_count": 51,
      "outputs": [
        {
          "output_type": "execute_result",
          "data": {
            "text/plain": [
              "[{'organization': 'Apple', 'page': 7, 'source': '/tmp/tmpz4atblk3/tmp.pdf'},\n",
              " {'organization': 'Apple', 'page': 7, 'source': '/tmp/tmpz4atblk3/tmp.pdf'},\n",
              " {'organization': 'Apple', 'page': 5, 'source': '/tmp/tmpz4atblk3/tmp.pdf'},\n",
              " {'organization': 'Apple', 'page': 4, 'source': '/tmp/tmpz4atblk3/tmp.pdf'},\n",
              " {'organization': 'Apple', 'page': 8, 'source': '/tmp/tmpz4atblk3/tmp.pdf'},\n",
              " {'organization': 'Apple', 'page': 2, 'source': '/tmp/tmpz4atblk3/tmp.pdf'},\n",
              " {'organization': 'Apple', 'page': 8, 'source': '/tmp/tmpz4atblk3/tmp.pdf'},\n",
              " {'organization': 'Google', 'page': 7, 'source': '/tmp/tmpawgho1vl/tmp.pdf'},\n",
              " {'organization': 'TikTok',\n",
              "  'source': 'https://www.tiktok.com/legal/page/us/privacy-policy/en'},\n",
              " {'organization': 'Apple', 'page': 2, 'source': '/tmp/tmpz4atblk3/tmp.pdf'}]"
            ]
          },
          "metadata": {},
          "execution_count": 51
        }
      ]
    },
    {
      "cell_type": "markdown",
      "source": [
        "The first result looks good.  It talks about Apple and the fact that Apple uses cookies."
      ],
      "metadata": {
        "id": "b77GEEPEmyeH"
      }
    },
    {
      "cell_type": "code",
      "source": [
        "print(textwrap.fill(results[0].page_content))"
      ],
      "metadata": {
        "colab": {
          "base_uri": "https://localhost:8080/"
        },
        "id": "Fk22v6Ygj0b0",
        "outputId": "f9a8bd31-2cb7-42d6-c72e-03922320a489"
      },
      "execution_count": 52,
      "outputs": [
        {
          "output_type": "stream",
          "name": "stdout",
          "text": [
            "In addition to cookies, Apple uses other technologies that help us\n",
            "achieve similar objectives.  In some email messages Apple sends to\n",
            "you, we provide a “click-through URL” that links you to content on the\n",
            "Apple website. When you click one of these URLs, they pass through a\n",
            "separate server before arriving at the destination page on our\n",
            "website. We track this click-through to help us determine interest in\n",
            "particular topics and measure whether we are communicating with you\n",
            "effectively. If you prefer not to be tracked in this way, you should\n",
            "not click graphic or text links in email messages.\n"
          ]
        }
      ]
    },
    {
      "cell_type": "markdown",
      "source": [
        "Now lets look at any other responses.  Did we ask for too many results?  Are there chunks that talk about cookies but don't mention the company?"
      ],
      "metadata": {
        "id": "c2_chQMXm9UB"
      }
    },
    {
      "cell_type": "code",
      "source": [
        "for result in results:\n",
        "  if result.metadata['organization'] != \"Apple\":\n",
        "    print(textwrap.fill(result.page_content))\n",
        "    print(result.metadata)\n",
        "    print()"
      ],
      "metadata": {
        "colab": {
          "base_uri": "https://localhost:8080/"
        },
        "id": "voz62_iDkFE2",
        "outputId": "f3dd48cd-308b-48ba-d33d-db4d479e9076"
      },
      "execution_count": 53,
      "outputs": [
        {
          "output_type": "stream",
          "name": "stdout",
          "text": [
            "We allow trusted businesses to use cookies or similar technologies for\n",
            "advertising and research purposes on our services. Learn more. \"phone\n",
            "number\" For example, if you add a phone number as a recovery option,\n",
            "if you forget your password Google can send you a text message with a\n",
            "code to enable you to reset it. Learn more. \"protect Google and our\n",
            "users\" For example, if you're concerned about unauthorized access to\n",
            "your email, \"Last account activity\" in Gmail shows you information\n",
            "about recent activity in your email, such as the IP addresses that\n",
            "accessed your mail, the associated location, as well as the time and\n",
            "date. Learn more. \"protect\" For example, one reason we collect and\n",
            "analyze IP addresses and cookies is to protect our services against\n",
            "automated abuse. Learn more. \"provide\" For example, the IP address\n",
            "assigned to your device is used to send the data you requested back to\n",
            "your device. Learn more.\n",
            "{'organization': 'Google', 'page': 7, 'source': '/tmp/tmpawgho1vl/tmp.pdf'}\n",
            "\n",
            "Cookies. We and our service providers and business partners use\n",
            "cookies and other similar technologies (e.g., web beacons, flash\n",
            "cookies, etc.) (“Cookies”) to automatically collect information,\n",
            "measure and analyze how you use the Platform, including which pages\n",
            "you view most often and how you interact with content, enhance your\n",
            "experience using the Platform, improve the Platform, provide you with\n",
            "advertising, and measure the effectiveness of advertisements and other\n",
            "content. We and our partners also use Cookies to promote the Platform\n",
            "on other platforms and websites. Cookies enable the Platform to\n",
            "provide certain features and functionality. Web beacons are very small\n",
            "images or small pieces of data embedded in images, also known as\n",
            "“pixel tags” or “clear GIFs,” that can recognize Cookies, the time and\n",
            "date a page is viewed, a description of the page where the pixel tag\n",
            "is placed, and similar information from your computer or device. To\n",
            "learn how to disable certain Cookies, see the “Your Choices” section\n",
            "below.  We may link your contact or account information with your\n",
            "activity on and off our Platform across all your devices, using your\n",
            "email or other log-in or device information. We may use this\n",
            "information to display advertisements on our Platform tailored to your\n",
            "interests, preferences, and characteristics.\n",
            "{'organization': 'TikTok', 'source': 'https://www.tiktok.com/legal/page/us/privacy-policy/en'}\n",
            "\n"
          ]
        }
      ]
    },
    {
      "cell_type": "markdown",
      "source": [
        "When we processed the source documents and split them into chunks, we added the name of the organization for the policy as metadata.  We can use that metadata as a filter.  In our example below, the filter is very simple, we merely indicate that the organization field needs to be `Apple`.  When we add that parameter, the results are limited to Apple embeddings."
      ],
      "metadata": {
        "id": "W0n2p17Rnrs0"
      }
    },
    {
      "cell_type": "code",
      "source": [
        "results = vectordb.similarity_search (query, filter = {'organization':'Apple'}, k=10)\n",
        "[result.metadata for result in results]"
      ],
      "metadata": {
        "colab": {
          "base_uri": "https://localhost:8080/"
        },
        "id": "KUCwdsfYhD7L",
        "outputId": "21eaed98-a655-4917-d008-48d95693c119"
      },
      "execution_count": 54,
      "outputs": [
        {
          "output_type": "execute_result",
          "data": {
            "text/plain": [
              "[{'organization': 'Apple', 'page': 7, 'source': '/tmp/tmpz4atblk3/tmp.pdf'},\n",
              " {'organization': 'Apple', 'page': 7, 'source': '/tmp/tmpz4atblk3/tmp.pdf'},\n",
              " {'organization': 'Apple', 'page': 5, 'source': '/tmp/tmpz4atblk3/tmp.pdf'},\n",
              " {'organization': 'Apple', 'page': 4, 'source': '/tmp/tmpz4atblk3/tmp.pdf'},\n",
              " {'organization': 'Apple', 'page': 8, 'source': '/tmp/tmpz4atblk3/tmp.pdf'},\n",
              " {'organization': 'Apple', 'page': 2, 'source': '/tmp/tmpz4atblk3/tmp.pdf'},\n",
              " {'organization': 'Apple', 'page': 8, 'source': '/tmp/tmpz4atblk3/tmp.pdf'},\n",
              " {'organization': 'Apple', 'page': 2, 'source': '/tmp/tmpz4atblk3/tmp.pdf'},\n",
              " {'organization': 'Apple', 'page': 6, 'source': '/tmp/tmpz4atblk3/tmp.pdf'},\n",
              " {'organization': 'Apple', 'page': 4, 'source': '/tmp/tmpz4atblk3/tmp.pdf'}]"
            ]
          },
          "metadata": {},
          "execution_count": 54
        }
      ]
    },
    {
      "cell_type": "markdown",
      "source": [
        "Our next query only references \"the company\" and not any specific company.  The results relate to several of the companies."
      ],
      "metadata": {
        "id": "a_uwtTshoRLV"
      }
    },
    {
      "cell_type": "code",
      "source": [
        "query = \"Does the company sell private data?\"\n",
        "results = vectordb.similarity_search (query, k=10)\n",
        "[result.metadata for result in results]"
      ],
      "metadata": {
        "colab": {
          "base_uri": "https://localhost:8080/"
        },
        "id": "UnXrU-5mifhw",
        "outputId": "1ca6dd07-39f1-42cf-aaa9-16bd0e1a3ca7"
      },
      "execution_count": 55,
      "outputs": [
        {
          "output_type": "execute_result",
          "data": {
            "text/plain": [
              "[{'organization': 'Threads',\n",
              "  'source': 'https://terms.threads.com/privacy-policy'},\n",
              " {'organization': 'Google', 'page': 7, 'source': '/tmp/tmpawgho1vl/tmp.pdf'},\n",
              " {'organization': 'Threads',\n",
              "  'source': 'https://terms.threads.com/privacy-policy'},\n",
              " {'organization': 'TikTok',\n",
              "  'source': 'https://www.tiktok.com/legal/page/us/privacy-policy/en'},\n",
              " {'organization': 'Google', 'page': 3, 'source': '/tmp/tmpawgho1vl/tmp.pdf'},\n",
              " {'organization': 'TikTok',\n",
              "  'source': 'https://www.tiktok.com/legal/page/us/privacy-policy/en'},\n",
              " {'organization': 'Apple', 'page': 4, 'source': '/tmp/tmpz4atblk3/tmp.pdf'},\n",
              " {'organization': 'Google', 'page': 4, 'source': '/tmp/tmpawgho1vl/tmp.pdf'},\n",
              " {'organization': 'TikTok',\n",
              "  'source': 'https://www.tiktok.com/legal/page/us/privacy-policy/en'},\n",
              " {'organization': 'Apple', 'page': 6, 'source': '/tmp/tmpz4atblk3/tmp.pdf'}]"
            ]
          },
          "metadata": {},
          "execution_count": 55
        }
      ]
    },
    {
      "cell_type": "markdown",
      "source": [
        "We can use the filter to indicate that we care about Google only."
      ],
      "metadata": {
        "id": "HFZwwynjolpu"
      }
    },
    {
      "cell_type": "code",
      "source": [
        "query = \"Does the company sell private data?\"\n",
        "results = vectordb.similarity_search (query, filter = {'organization':'Google'}, k=10)\n",
        "[result.metadata for result in results]"
      ],
      "metadata": {
        "colab": {
          "base_uri": "https://localhost:8080/"
        },
        "id": "2s1AwRa5iyYe",
        "outputId": "f166cc27-2261-4a3a-fb7c-aab926d1ceaa"
      },
      "execution_count": 56,
      "outputs": [
        {
          "output_type": "execute_result",
          "data": {
            "text/plain": [
              "[{'organization': 'Google', 'page': 7, 'source': '/tmp/tmpawgho1vl/tmp.pdf'},\n",
              " {'organization': 'Google', 'page': 3, 'source': '/tmp/tmpawgho1vl/tmp.pdf'},\n",
              " {'organization': 'Google', 'page': 4, 'source': '/tmp/tmpawgho1vl/tmp.pdf'},\n",
              " {'organization': 'Google', 'page': 4, 'source': '/tmp/tmpawgho1vl/tmp.pdf'},\n",
              " {'organization': 'Google', 'page': 9, 'source': '/tmp/tmpawgho1vl/tmp.pdf'},\n",
              " {'organization': 'Google', 'page': 1, 'source': '/tmp/tmpawgho1vl/tmp.pdf'},\n",
              " {'organization': 'Google', 'page': 3, 'source': '/tmp/tmpawgho1vl/tmp.pdf'},\n",
              " {'organization': 'Google', 'page': 2, 'source': '/tmp/tmpawgho1vl/tmp.pdf'},\n",
              " {'organization': 'Google', 'page': 5, 'source': '/tmp/tmpawgho1vl/tmp.pdf'},\n",
              " {'organization': 'Google', 'page': 6, 'source': '/tmp/tmpawgho1vl/tmp.pdf'}]"
            ]
          },
          "metadata": {},
          "execution_count": 56
        }
      ]
    },
    {
      "cell_type": "code",
      "source": [
        "print(textwrap.fill(results[5].page_content))"
      ],
      "metadata": {
        "colab": {
          "base_uri": "https://localhost:8080/"
        },
        "id": "yz6FUkfCi8zI",
        "outputId": "07f9ff1d-de35-4e35-9fa4-8249aa77d33b"
      },
      "execution_count": 57,
      "outputs": [
        {
          "output_type": "stream",
          "name": "stdout",
          "text": [
            "Privacy Policy Last modified: December 18, 2017 ( view archived\n",
            "versions ) (The hyperlinked examples are available at the end of this\n",
            "document.) There are many different ways you can use our services – to\n",
            "search for and share information, to communicate with other people or\n",
            "to create new content. When you share information with us, for example\n",
            "by creating a Google Account , we can make those services even better\n",
            "– to show you more relevant search results  and ads, to help you\n",
            "connect with people  or to make sharing with others quicker and easier\n",
            ". As you use our services, we want you to be clear how we’re using\n",
            "information and the ways in which you can protect your privacy. Our\n",
            "Privacy Policy explains:  What information we collect and why we\n",
            "collect it.  How we use that information.  The choices we offer,\n",
            "including how to access and update information. We’ve tried to keep it\n",
            "as simple as possible, but if you’re not familiar with terms like\n",
            "cookies, IP addresses, pixel tags and browsers, then read about these\n",
            "key terms  first. Your privacy matters to Google so whether you are\n",
            "new to Google or a long- time user, please do take the time to get to\n",
            "know our practices – and if you have any questions contact us .\n",
            "Information we collect We collect information to provide better\n",
            "services to all of our users – from figuring out basic stuff like\n",
            "which language you speak, to more complex things like which ads you’ll\n",
            "find most useful , the people who matter most to you online , or which\n"
          ]
        }
      ]
    },
    {
      "cell_type": "markdown",
      "source": [
        "# Answering Questions With Retrieval Augmented Generation\n",
        "\n",
        "Now that we have some familiarity with vector databases, lets use ours, together with a large language model, to answer questions about the five privacy policies we have been working with.  We will continue to rely on the LangChain framework and use Cohere."
      ],
      "metadata": {
        "id": "BtdjwXCzF0tx"
      }
    },
    {
      "cell_type": "code",
      "source": [
        "!pip install --quiet transformers\n"
      ],
      "metadata": {
        "id": "nF_lZJIAUYNY",
        "outputId": "d2e758b3-77dc-49ea-ad1b-801b41c4cdb4",
        "colab": {
          "base_uri": "https://localhost:8080/"
        }
      },
      "execution_count": 58,
      "outputs": [
        {
          "output_type": "stream",
          "name": "stdout",
          "text": [
            "\u001b[2K     \u001b[90m━━━━━━━━━━━━━━━━━━━━━━━━━━━━━━━━━━━━━━━━\u001b[0m \u001b[32m7.4/7.4 MB\u001b[0m \u001b[31m18.2 MB/s\u001b[0m eta \u001b[36m0:00:00\u001b[0m\n",
            "\u001b[2K     \u001b[90m━━━━━━━━━━━━━━━━━━━━━━━━━━━━━━━━━━━━━━\u001b[0m \u001b[32m268.8/268.8 kB\u001b[0m \u001b[31m18.1 MB/s\u001b[0m eta \u001b[36m0:00:00\u001b[0m\n",
            "\u001b[2K     \u001b[90m━━━━━━━━━━━━━━━━━━━━━━━━━━━━━━━━━━━━━━━━\u001b[0m \u001b[32m1.3/1.3 MB\u001b[0m \u001b[31m41.7 MB/s\u001b[0m eta \u001b[36m0:00:00\u001b[0m\n",
            "\u001b[?25h"
          ]
        }
      ]
    },
    {
      "cell_type": "code",
      "source": [
        "if LLM_SOURCE==\"OpenAI\":\n",
        "  llm = ChatOpenAI(model=\"gpt-3.5-turbo\", temperature=0)\n",
        "  # llm = ChatOpenAI(model=\"gpt-4\", temperature=0)\n",
        "\n",
        "else:\n",
        "  llm = Cohere(model=\"command\", temperature=0)"
      ],
      "metadata": {
        "id": "dPzKk1LKDzuI"
      },
      "execution_count": 59,
      "outputs": []
    },
    {
      "cell_type": "markdown",
      "source": [
        "## Prompting a Model\n",
        "\n",
        "[reword] Before we introduce working with the vector database, let's experiment with a simple model prompt.  We will pass a string to Cohere's `command` model, which is its default generative model, and see how it responds.\n",
        "\n",
        "The responses are based on information the model was trained on.  We don't know if it they are accurate.  Sources are not presented.  The response for Threads doesn't seem to relate to the Threads social media platform either."
      ],
      "metadata": {
        "id": "KE_H-WMCRLsi"
      }
    },
    {
      "cell_type": "code",
      "source": [
        "### Add this section back -- or not."
      ],
      "metadata": {
        "id": "-ypdFdVcFzIZ"
      },
      "execution_count": 60,
      "outputs": []
    },
    {
      "cell_type": "markdown",
      "source": [
        "## LangChain PromptTemplate\n",
        "\n",
        "A prompt template is a reproducible way to generate prompts. It's essentially a text string that can take in a set of parameters from the end user and generate a prompt accordingly.  Let's shift to LangChain chains by using the simplest of templates.\n",
        "\n",
        "The responses are not the same as before.  The substance of each has shifted too.\n",
        "\n",
        "Remember, the model is generating responses based on its training data."
      ],
      "metadata": {
        "id": "X4ilSV7wWIjL"
      }
    },
    {
      "cell_type": "code",
      "source": [
        "from langchain import PromptTemplate, LLMChain"
      ],
      "metadata": {
        "id": "NAZZ5S7CXKPy"
      },
      "execution_count": 61,
      "outputs": []
    },
    {
      "cell_type": "code",
      "source": [
        "template = \"\"\"Question: {question} Answer:\"\"\"\n",
        "prompt = PromptTemplate(\n",
        "    template=template,\n",
        "    input_variables=['question']\n",
        ")\n",
        "\n",
        "chain = LLMChain(prompt=prompt, llm=llm)"
      ],
      "metadata": {
        "id": "tbFtY8wIX52u"
      },
      "execution_count": 62,
      "outputs": []
    },
    {
      "cell_type": "code",
      "source": [
        "query = \"Does Apple sell my personal data?\"\n",
        "print(textwrap.fill(chain.run(query)).strip())"
      ],
      "metadata": {
        "colab": {
          "base_uri": "https://localhost:8080/"
        },
        "id": "aIwxfOMrgh60",
        "outputId": "76831a53-6db8-4d15-f4ab-c06131777058"
      },
      "execution_count": 63,
      "outputs": [
        {
          "output_type": "stream",
          "name": "stdout",
          "text": [
            "Apple does not sell your personal data. However, it does collect and\n",
            "use data in ways that may be considered a sale under certain laws. For\n",
            "example, Apple may share your data with third parties for marketing\n",
            "purposes, or it may use your data to improve its products and\n",
            "services. In these cases, Apple may be considered to have sold your\n",
            "data even though it does not receive any direct financial\n",
            "compensation.\n"
          ]
        }
      ]
    },
    {
      "cell_type": "code",
      "source": [
        "query = \"Does Threads sell my personal data?\"\n",
        "print(textwrap.fill(chain.run(query)).strip())"
      ],
      "metadata": {
        "colab": {
          "base_uri": "https://localhost:8080/"
        },
        "id": "l4J0fsbFbSrl",
        "outputId": "ebdccd9f-1310-4341-91c3-69e038147617"
      },
      "execution_count": 64,
      "outputs": [
        {
          "output_type": "stream",
          "name": "stdout",
          "text": [
            "Threads does not sell your personal data. Threads is a social media\n",
            "platform that allows users to share their personal experiences and\n",
            "connect with others. Threads does not share or sell user data to third\n",
            "parties.\n"
          ]
        }
      ]
    },
    {
      "cell_type": "markdown",
      "source": [
        "## LangChain RetrievalQA Chain\n",
        "\n",
        "Now we introduced our vector database and the LangChain Retrieval QA chain, a chain for question answering against a database of information.  This time, the response for Apple mentions the privacy policy.  It would be reassuring if sources were identified."
      ],
      "metadata": {
        "id": "8-93wn4aJDkc"
      }
    },
    {
      "cell_type": "code",
      "source": [
        "from langchain.chains import RetrievalQA\n",
        "\n",
        "chain = RetrievalQA.from_chain_type(\n",
        "    llm,\n",
        "    retriever=vectordb.as_retriever()\n",
        "    )"
      ],
      "metadata": {
        "id": "Tb6S0jtmHaYn"
      },
      "execution_count": 65,
      "outputs": []
    },
    {
      "cell_type": "code",
      "source": [
        "query = \"Does Apple sell my personal data?\"\n",
        "result = chain.run(query)\n",
        "print(textwrap.fill(result.strip()))"
      ],
      "metadata": {
        "colab": {
          "base_uri": "https://localhost:8080/"
        },
        "id": "VeYv1FFgH40Z",
        "outputId": "4a23065d-77d9-4a8c-e0ab-dea3f3026c66"
      },
      "execution_count": 66,
      "outputs": [
        {
          "output_type": "stream",
          "name": "stdout",
          "text": [
            "No, Apple does not sell your personal data. Apple's privacy policy\n",
            "specifically states that they do not share personal data with third\n",
            "parties for their own marketing purposes. However, it is important to\n",
            "note that Apple may share personal data with Apple-affiliated\n",
            "companies, service providers, partners, developers, and publishers, or\n",
            "others at your direction. This means that your personal data may be\n",
            "shared with these parties for legitimate business purposes, such as to\n",
            "provide services or products, fulfill orders, process payments, or for\n",
            "research and development purposes. Additionally, Apple may use your\n",
            "personal data to improve their offerings, for internal purposes such\n",
            "as auditing or data analysis, or for troubleshooting.\n"
          ]
        }
      ]
    },
    {
      "cell_type": "code",
      "source": [
        "query = \"Does Threads sell my personal data?\"\n",
        "result = chain.run(query)\n",
        "print(textwrap.fill(result.strip()))"
      ],
      "metadata": {
        "colab": {
          "base_uri": "https://localhost:8080/"
        },
        "id": "zHdqFIKrjZPC",
        "outputId": "14b8abca-137f-47b7-bb5f-cde2e45939b5"
      },
      "execution_count": 67,
      "outputs": [
        {
          "output_type": "stream",
          "name": "stdout",
          "text": [
            "I don't know.\n"
          ]
        }
      ]
    },
    {
      "cell_type": "markdown",
      "source": [
        "We can build our own prompt to be used in the QA chain.  Our prompt will be based on the PromptTemplate we looked at above."
      ],
      "metadata": {
        "id": "1kmXYXJ1lLT4"
      }
    },
    {
      "cell_type": "code",
      "source": [
        "template = \"\"\"Use the following pieces of context to answer the question at the end.\n",
        "Your answer should be as concise as possible and not more than three sentences.\n",
        "If you don't know the answer, just say that you don't know.\n",
        "\n",
        "{context}\n",
        "\n",
        "Question: {question}\n",
        "\n",
        "Answer:\"\"\"\n",
        "\n",
        "prompt = PromptTemplate(template=template,\n",
        "                        input_variables=[\"context\", \"question\"]\n",
        "                        )\n",
        "\n",
        "chain = RetrievalQA.from_chain_type(\n",
        "    llm,\n",
        "    retriever=vectordb.as_retriever(),\n",
        "    chain_type_kwargs={\"prompt\": prompt}\n",
        ")"
      ],
      "metadata": {
        "id": "JJJDm0sPJ7Cr"
      },
      "execution_count": 68,
      "outputs": []
    },
    {
      "cell_type": "code",
      "source": [
        "query = \"Does Apple sell my personal data?\"\n",
        "result = chain.run(query)\n",
        "print(textwrap.fill(result.strip()))"
      ],
      "metadata": {
        "colab": {
          "base_uri": "https://localhost:8080/"
        },
        "id": "TqWI5rGwvM-t",
        "outputId": "32373fbc-0096-4956-f516-d8e9f2173e35"
      },
      "execution_count": 69,
      "outputs": [
        {
          "output_type": "stream",
          "name": "stdout",
          "text": [
            "Apple does not share personal data with third parties for their own\n",
            "marketing purposes, however, they may share data with Apple-affiliated\n",
            "companies, service providers, partners, developers, and publishers.\n",
            "They may also use your data for research and development purposes.\n"
          ]
        }
      ]
    },
    {
      "cell_type": "code",
      "source": [
        "query = \"Does Threads sell my personal data?\"\n",
        "result = chain.run(query)\n",
        "print(textwrap.fill(result.strip()))"
      ],
      "metadata": {
        "colab": {
          "base_uri": "https://localhost:8080/"
        },
        "id": "ohODP11xml4T",
        "outputId": "9a99c4e6-f59b-491a-9b85-ceaa45de5b53"
      },
      "execution_count": 70,
      "outputs": [
        {
          "output_type": "stream",
          "name": "stderr",
          "text": [
            "WARNING:langchain.llms.cohere:Retrying langchain.llms.cohere.completion_with_retry.<locals>._completion_with_retry in 4.0 seconds as it raised CohereAPIError: You are using a Trial key, which is limited to 5 API calls / minute. You can continue to use the Trial key for free or upgrade to a Production key with higher rate limits at 'https://dashboard.cohere.ai/api-keys'. Contact us on 'https://discord.gg/XW44jPfYJu' or email us at support@cohere.com with any questions.\n",
            "WARNING:langchain.llms.cohere:Retrying langchain.llms.cohere.completion_with_retry.<locals>._completion_with_retry in 4.0 seconds as it raised CohereAPIError: You are using a Trial key, which is limited to 5 API calls / minute. You can continue to use the Trial key for free or upgrade to a Production key with higher rate limits at 'https://dashboard.cohere.ai/api-keys'. Contact us on 'https://discord.gg/XW44jPfYJu' or email us at support@cohere.com with any questions.\n",
            "WARNING:langchain.llms.cohere:Retrying langchain.llms.cohere.completion_with_retry.<locals>._completion_with_retry in 4.0 seconds as it raised CohereAPIError: You are using a Trial key, which is limited to 5 API calls / minute. You can continue to use the Trial key for free or upgrade to a Production key with higher rate limits at 'https://dashboard.cohere.ai/api-keys'. Contact us on 'https://discord.gg/XW44jPfYJu' or email us at support@cohere.com with any questions.\n",
            "WARNING:langchain.llms.cohere:Retrying langchain.llms.cohere.completion_with_retry.<locals>._completion_with_retry in 8.0 seconds as it raised CohereAPIError: You are using a Trial key, which is limited to 5 API calls / minute. You can continue to use the Trial key for free or upgrade to a Production key with higher rate limits at 'https://dashboard.cohere.ai/api-keys'. Contact us on 'https://discord.gg/XW44jPfYJu' or email us at support@cohere.com with any questions.\n",
            "WARNING:langchain.llms.cohere:Retrying langchain.llms.cohere.completion_with_retry.<locals>._completion_with_retry in 10.0 seconds as it raised CohereAPIError: You are using a Trial key, which is limited to 5 API calls / minute. You can continue to use the Trial key for free or upgrade to a Production key with higher rate limits at 'https://dashboard.cohere.ai/api-keys'. Contact us on 'https://discord.gg/XW44jPfYJu' or email us at support@cohere.com with any questions.\n"
          ]
        },
        {
          "output_type": "stream",
          "name": "stdout",
          "text": [
            "Threads may share your personal data with third parties in certain\n",
            "circumstances, such as with vendors or service providers who are\n",
            "necessary to provide you with Threads. However, Threads does not sell\n",
            "your personal data to third parties.\n"
          ]
        }
      ]
    },
    {
      "cell_type": "markdown",
      "source": [
        "Get source documents."
      ],
      "metadata": {
        "id": "va1v0iw4JVTI"
      }
    },
    {
      "cell_type": "code",
      "source": [
        "chain = RetrievalQA.from_chain_type(llm=llm,\n",
        "                                 chain_type=\"stuff\",\n",
        "                                 retriever=vectordb.as_retriever(search_type=\"mmr\", search_kwargs={'fetch_k': 30}), \\\n",
        "                                 return_source_documents=True)"
      ],
      "metadata": {
        "id": "JFnx-RauKDlr"
      },
      "execution_count": 71,
      "outputs": []
    },
    {
      "cell_type": "code",
      "source": [
        "query = \"Does Apple sell my personal data?\"\n",
        "result = chain({\"query\": query})"
      ],
      "metadata": {
        "id": "V6zq6Y3BJkwx"
      },
      "execution_count": 72,
      "outputs": []
    },
    {
      "cell_type": "code",
      "source": [
        "result['source_documents']"
      ],
      "metadata": {
        "id": "uUh4FR_ZJslt",
        "outputId": "102415d7-2cda-4aaf-e923-b49092f966ed",
        "colab": {
          "base_uri": "https://localhost:8080/"
        }
      },
      "execution_count": 73,
      "outputs": [
        {
          "output_type": "execute_result",
          "data": {
            "text/plain": [
              "[Document(page_content='Apple’s Sharing of Personal Data Apple may share personal data with Apple-affiliated companies, service providers who act on our behalf, our partners, developers, and publishers, or others at your direction. Apple does not share personal data with third parties for their own marketing purposes.  •Service Providers. Apple may engage third parties to act as our service providers and perform certain tasks on our behalf, such as processing or storing data, including personal data, in connection with your use of our services and delivering products to customers. Apple service providers are obligated to handle personal data consistent with this Privacy Policy and according to our instructions. •Partners. At times, Apple may partner with third parties to provide services or other offerings. For example, Apple financial offerings like Apple Card and Apple Cash are offered by Apple and our partners. Apple requires its partners to protect your personal data. •Developers and Publishers from Whom You Get a Subscription. If you purchase a third-party subscription from the App Store or within Apple News, we create a Subscriber ID that is unique to you and the developer or publisher. The Subscriber ID may be used to provide reports to the developer or publisher, which include information about the subscription you purchased and your country of residence. If you cancel all of your subscriptions from a particular developer or publisher, the Subscriber ID will reset after 180 days if you do', metadata={'organization': 'Apple', 'page': 6, 'source': '/tmp/tmpz4atblk3/tmp.pdf'}),\n",
              " Document(page_content='for other purposes with your consent.  Depending on the circumstance, Apple may rely on your consent or the fact that the processing is necessary to fulfill a contract with you, protect your vital interests or those of other persons, or to comply', metadata={'organization': 'Apple', 'page': 4, 'source': '/tmp/tmpz4atblk3/tmp.pdf'}),\n",
              " Document(page_content='You can opt out of marketing or advertising emails by using the “unsubscribe” link or mechanism noted in marketing or advertising emails.\\n\\nCurrent versions of the app do not collect precise or approximate GPS information from U.S. users. If you are still using an older version that allowed for collection of precise or approximate GPS information (last release in August 2020) and you granted us permission to do so, you can prevent your device from sharing such information with the Platform at any time through your device’s operating system settings.\\n\\nIf you have registered for an account, you may access, review, and update certain personal information that you have provided to us by logging into your account and using available features and functionalities.\\n\\nSome browsers transmit “do-not-track” signals to websites. Because of differences in how browsers incorporate and activate this feature, we currently do not take action in response to these signals.\\n\\nData Security and Retention', metadata={'organization': 'TikTok', 'source': 'https://www.tiktok.com/legal/page/us/privacy-policy/en'}),\n",
              " Document(page_content='Personal Data Sales\\n\\nWe will not sell your Personal Data, and have not done so over the last 12 months.\\n\\nPersonal Data Sharing\\n\\nUnder the CPRA, California residents have certain rights when a business “shares” Personal Data with third parties for purposes of cross-contextual behavioral advertising. We will not share your Personal Data for cross-contextual behavioral advertising, and have not done so over the last 12 months. To our knowledge, we do not share the Personal Data of minors under 16 years of age for purposes of cross-contextual behavioral advertising.\\n\\nWe Will Not Discriminate Against You for Exercising Your Rights Under the CPRA\\n\\nWe will not discriminate against you for exercising your rights under the CPRA. We will not deny you our goods or services, charge you different prices or rates, or provide you a lower quality of goods and services if you exercise your rights under the CPRA. However, we may offer different tiers of Threads as allowed by applicable data privacy laws (including the CPRA) with varying prices, rates or levels of quality of the goods or services you receive related to the value of Personal Data that we receive from you.\\n\\nOther State Law Privacy Rights\\n\\nCalifornia Resident Rights', metadata={'organization': 'Threads', 'source': 'https://terms.threads.com/privacy-policy'})]"
            ]
          },
          "metadata": {},
          "execution_count": 73
        }
      ]
    }
  ]
}
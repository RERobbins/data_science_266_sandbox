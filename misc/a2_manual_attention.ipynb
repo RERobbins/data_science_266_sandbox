{
 "cells": [
  {
   "cell_type": "markdown",
   "id": "c46c6c03",
   "metadata": {},
   "source": [
    "### Manual Attention Calculation"
   ]
  },
  {
   "cell_type": "code",
   "execution_count": 1,
   "id": "c073aa04",
   "metadata": {},
   "outputs": [],
   "source": [
    "import numpy as np"
   ]
  },
  {
   "cell_type": "code",
   "execution_count": 2,
   "id": "cd0a1651",
   "metadata": {},
   "outputs": [],
   "source": [
    "# Define query and key vectors\n",
    "q = np.array([1, 2, 1.])\n",
    "k1 = np.array([-1, -1, 3.])\n",
    "k2 = np.array([1, 2, -5.])"
   ]
  },
  {
   "cell_type": "code",
   "execution_count": 3,
   "id": "db76ffac",
   "metadata": {},
   "outputs": [],
   "source": [
    "# Calculate attention scores using dot product\n",
    "attention_scores_k1 = np.dot(q, k1)\n",
    "attention_scores_k2 = np.dot(q, k2)"
   ]
  },
  {
   "cell_type": "code",
   "execution_count": 4,
   "id": "ce4d5e94",
   "metadata": {},
   "outputs": [],
   "source": [
    "# Apply softmax to get attention weights\n",
    "attention_weights_k1 = np.exp(attention_scores_k1) / (np.exp(attention_scores_k1) + np.exp(attention_scores_k2))\n",
    "attention_weights_k2 = np.exp(attention_scores_k2) / (np.exp(attention_scores_k1) + np.exp(attention_scores_k2))"
   ]
  },
  {
   "cell_type": "code",
   "execution_count": 5,
   "id": "d9299b21",
   "metadata": {},
   "outputs": [],
   "source": [
    "# Calculate context vector as the weighted sum of value vectors (assuming values are the same as keys)\n",
    "value_k1 = k1  # Value vector corresponding to key k1\n",
    "value_k2 = k2  # Value vector corresponding to key k2"
   ]
  },
  {
   "cell_type": "code",
   "execution_count": 6,
   "id": "106b429a",
   "metadata": {},
   "outputs": [],
   "source": [
    "context_vector = attention_weights_k1 * value_k1 + attention_weights_k2 * value_k2"
   ]
  },
  {
   "cell_type": "code",
   "execution_count": 7,
   "id": "dc5136e4",
   "metadata": {},
   "outputs": [
    {
     "name": "stdout",
     "output_type": "stream",
     "text": [
      "Context Vector: [ 0.   0.5 -1. ]\n",
      "Attention Weights for k1: 0.5\n",
      "Attention Weights for k2: 0.5\n"
     ]
    }
   ],
   "source": [
    "print(\"Context Vector:\", context_vector)\n",
    "print(\"Attention Weights for k1:\", attention_weights_k1)\n",
    "print(\"Attention Weights for k2:\", attention_weights_k2)"
   ]
  },
  {
   "cell_type": "markdown",
   "id": "1a4223fc",
   "metadata": {},
   "source": [
    "### With Keras"
   ]
  },
  {
   "cell_type": "code",
   "execution_count": 8,
   "id": "330f0651",
   "metadata": {},
   "outputs": [
    {
     "name": "stderr",
     "output_type": "stream",
     "text": [
      "2023-09-25 11:34:54.531705: I tensorflow/core/platform/cpu_feature_guard.cc:183] This TensorFlow binary is optimized to use available CPU instructions in performance-critical operations.\n",
      "To enable the following instructions: SSE3 SSE4.1 SSE4.2 AVX, in other operations, rebuild TensorFlow with the appropriate compiler flags.\n"
     ]
    }
   ],
   "source": [
    "import tensorflow as tf"
   ]
  },
  {
   "cell_type": "code",
   "execution_count": 9,
   "id": "febfa2fb",
   "metadata": {},
   "outputs": [
    {
     "name": "stderr",
     "output_type": "stream",
     "text": [
      "2023-09-25 11:35:27.375089: I tensorflow/compiler/xla/stream_executor/cuda/cuda_gpu_executor.cc:1013] successful NUMA node read from SysFS had negative value (-1), but there must be at least one NUMA node, so returning NUMA node zero. See more at https://github.com/torvalds/linux/blob/v6.0/Documentation/ABI/testing/sysfs-bus-pci#L344-L355\n",
      "2023-09-25 11:35:27.427054: I tensorflow/compiler/xla/stream_executor/cuda/cuda_gpu_executor.cc:1013] successful NUMA node read from SysFS had negative value (-1), but there must be at least one NUMA node, so returning NUMA node zero. See more at https://github.com/torvalds/linux/blob/v6.0/Documentation/ABI/testing/sysfs-bus-pci#L344-L355\n",
      "2023-09-25 11:35:27.427168: I tensorflow/compiler/xla/stream_executor/cuda/cuda_gpu_executor.cc:1013] successful NUMA node read from SysFS had negative value (-1), but there must be at least one NUMA node, so returning NUMA node zero. See more at https://github.com/torvalds/linux/blob/v6.0/Documentation/ABI/testing/sysfs-bus-pci#L344-L355\n",
      "2023-09-25 11:35:27.430163: I tensorflow/compiler/xla/stream_executor/cuda/cuda_gpu_executor.cc:1013] successful NUMA node read from SysFS had negative value (-1), but there must be at least one NUMA node, so returning NUMA node zero. See more at https://github.com/torvalds/linux/blob/v6.0/Documentation/ABI/testing/sysfs-bus-pci#L344-L355\n",
      "2023-09-25 11:35:27.430266: I tensorflow/compiler/xla/stream_executor/cuda/cuda_gpu_executor.cc:1013] successful NUMA node read from SysFS had negative value (-1), but there must be at least one NUMA node, so returning NUMA node zero. See more at https://github.com/torvalds/linux/blob/v6.0/Documentation/ABI/testing/sysfs-bus-pci#L344-L355\n",
      "2023-09-25 11:35:27.430350: I tensorflow/compiler/xla/stream_executor/cuda/cuda_gpu_executor.cc:1013] successful NUMA node read from SysFS had negative value (-1), but there must be at least one NUMA node, so returning NUMA node zero. See more at https://github.com/torvalds/linux/blob/v6.0/Documentation/ABI/testing/sysfs-bus-pci#L344-L355\n",
      "2023-09-25 11:35:27.483121: I tensorflow/compiler/xla/stream_executor/cuda/cuda_gpu_executor.cc:1013] successful NUMA node read from SysFS had negative value (-1), but there must be at least one NUMA node, so returning NUMA node zero. See more at https://github.com/torvalds/linux/blob/v6.0/Documentation/ABI/testing/sysfs-bus-pci#L344-L355\n",
      "2023-09-25 11:35:27.483241: I tensorflow/compiler/xla/stream_executor/cuda/cuda_gpu_executor.cc:1013] successful NUMA node read from SysFS had negative value (-1), but there must be at least one NUMA node, so returning NUMA node zero. See more at https://github.com/torvalds/linux/blob/v6.0/Documentation/ABI/testing/sysfs-bus-pci#L344-L355\n",
      "2023-09-25 11:35:27.483336: I tensorflow/compiler/xla/stream_executor/cuda/cuda_gpu_executor.cc:1013] successful NUMA node read from SysFS had negative value (-1), but there must be at least one NUMA node, so returning NUMA node zero. See more at https://github.com/torvalds/linux/blob/v6.0/Documentation/ABI/testing/sysfs-bus-pci#L344-L355\n",
      "2023-09-25 11:35:27.483420: I tensorflow/core/common_runtime/gpu/gpu_device.cc:1638] Created device /job:localhost/replica:0/task:0/device:GPU:0 with 46234 MB memory:  -> device: 0, name: NVIDIA RTX 6000 Ada Generation, pci bus id: 0000:41:00.0, compute capability: 8.9\n",
      "2023-09-25 11:35:27.819769: I tensorflow/compiler/xla/stream_executor/cuda/cuda_blas.cc:655] TensorFloat-32 will be used for the matrix multiplication. This will only be logged once.\n"
     ]
    },
    {
     "data": {
      "text/plain": [
       "(<tf.Tensor: shape=(1, 3), dtype=float32, numpy=array([[ 0. ,  0.5, -1. ]], dtype=float32)>,\n",
       " <tf.Tensor: shape=(1, 2), dtype=float32, numpy=array([[0.5, 0.5]], dtype=float32)>)"
      ]
     },
     "execution_count": 9,
     "metadata": {},
     "output_type": "execute_result"
    }
   ],
   "source": [
    "tf.keras.layers.Attention()([np.array([q]), np.array([k1, k2])], return_attention_scores=True)"
   ]
  },
  {
   "cell_type": "code",
   "execution_count": null,
   "id": "a75257af",
   "metadata": {},
   "outputs": [],
   "source": []
  }
 ],
 "metadata": {
  "kernelspec": {
   "display_name": "Python 3 (ipykernel)",
   "language": "python",
   "name": "python3"
  },
  "language_info": {
   "codemirror_mode": {
    "name": "ipython",
    "version": 3
   },
   "file_extension": ".py",
   "mimetype": "text/x-python",
   "name": "python",
   "nbconvert_exporter": "python",
   "pygments_lexer": "ipython3",
   "version": "3.10.6"
  }
 },
 "nbformat": 4,
 "nbformat_minor": 5
}
